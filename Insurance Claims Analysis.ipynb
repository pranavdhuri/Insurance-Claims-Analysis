{
 "cells": [
  {
   "cell_type": "code",
   "execution_count": 1,
   "metadata": {},
   "outputs": [],
   "source": [
    "import os\n",
    "import pandas as pd\n",
    "\n",
    "import numpy as np\n",
    "import matplotlib.pyplot as plt\n",
    "import seaborn as sns"
   ]
  },
  {
   "cell_type": "code",
   "execution_count": 2,
   "metadata": {},
   "outputs": [],
   "source": [
    "os.chdir('C://Users//user//Downloads//GDTC-Task-Simple Data Engineering//Data For Python Assessment')"
   ]
  },
  {
   "cell_type": "code",
   "execution_count": 3,
   "metadata": {},
   "outputs": [],
   "source": [
    "employee = pd.read_csv('employee_data.csv')"
   ]
  },
  {
   "cell_type": "code",
   "execution_count": 4,
   "metadata": {},
   "outputs": [
    {
     "data": {
      "text/plain": [
       "(1200, 10)"
      ]
     },
     "execution_count": 4,
     "metadata": {},
     "output_type": "execute_result"
    }
   ],
   "source": [
    "employee.shape"
   ]
  },
  {
   "cell_type": "code",
   "execution_count": 95,
   "metadata": {},
   "outputs": [],
   "source": [
    "#employee.columns"
   ]
  },
  {
   "cell_type": "code",
   "execution_count": 6,
   "metadata": {},
   "outputs": [
    {
     "name": "stdout",
     "output_type": "stream",
     "text": [
      "<class 'pandas.core.frame.DataFrame'>\n",
      "RangeIndex: 1200 entries, 0 to 1199\n",
      "Data columns (total 10 columns):\n",
      " #   Column              Non-Null Count  Dtype \n",
      "---  ------              --------------  ----- \n",
      " 0   AGENT_ID            1200 non-null   object\n",
      " 1   AGENT_NAME          1200 non-null   object\n",
      " 2   DATE_OF_JOINING     1200 non-null   object\n",
      " 3   ADDRESS_LINE1       1200 non-null   object\n",
      " 4   ADDRESS_LINE2       179 non-null    object\n",
      " 5   CITY                1193 non-null   object\n",
      " 6   STATE               1200 non-null   object\n",
      " 7   POSTAL_CODE         1200 non-null   int64 \n",
      " 8   EMP_ROUTING_NUMBER  1200 non-null   int64 \n",
      " 9   EMP_ACCT_NUMBER     1200 non-null   object\n",
      "dtypes: int64(2), object(8)\n",
      "memory usage: 56.3+ KB\n"
     ]
    }
   ],
   "source": [
    "employee.info()"
   ]
  },
  {
   "cell_type": "code",
   "execution_count": 7,
   "metadata": {},
   "outputs": [
    {
     "data": {
      "text/html": [
       "<div>\n",
       "<style scoped>\n",
       "    .dataframe tbody tr th:only-of-type {\n",
       "        vertical-align: middle;\n",
       "    }\n",
       "\n",
       "    .dataframe tbody tr th {\n",
       "        vertical-align: top;\n",
       "    }\n",
       "\n",
       "    .dataframe thead th {\n",
       "        text-align: right;\n",
       "    }\n",
       "</style>\n",
       "<table border=\"1\" class=\"dataframe\">\n",
       "  <thead>\n",
       "    <tr style=\"text-align: right;\">\n",
       "      <th></th>\n",
       "      <th>AGENT_ID</th>\n",
       "      <th>AGENT_NAME</th>\n",
       "      <th>DATE_OF_JOINING</th>\n",
       "      <th>ADDRESS_LINE1</th>\n",
       "      <th>ADDRESS_LINE2</th>\n",
       "      <th>CITY</th>\n",
       "      <th>STATE</th>\n",
       "      <th>POSTAL_CODE</th>\n",
       "      <th>EMP_ROUTING_NUMBER</th>\n",
       "      <th>EMP_ACCT_NUMBER</th>\n",
       "    </tr>\n",
       "  </thead>\n",
       "  <tbody>\n",
       "    <tr>\n",
       "      <th>0</th>\n",
       "      <td>AGENT00001</td>\n",
       "      <td>Ray Johns</td>\n",
       "      <td>1993-06-05</td>\n",
       "      <td>1402 Maggies Way</td>\n",
       "      <td>NaN</td>\n",
       "      <td>Waterbury Center</td>\n",
       "      <td>VT</td>\n",
       "      <td>5677</td>\n",
       "      <td>34584958</td>\n",
       "      <td>HKUN51252328472585</td>\n",
       "    </tr>\n",
       "    <tr>\n",
       "      <th>1</th>\n",
       "      <td>AGENT00002</td>\n",
       "      <td>Angelo Borjon</td>\n",
       "      <td>2005-12-27</td>\n",
       "      <td>414 Tanya Pass</td>\n",
       "      <td>NaN</td>\n",
       "      <td>Panama City</td>\n",
       "      <td>FL</td>\n",
       "      <td>32404</td>\n",
       "      <td>107363763</td>\n",
       "      <td>OPIS19290040088204</td>\n",
       "    </tr>\n",
       "    <tr>\n",
       "      <th>2</th>\n",
       "      <td>AGENT00003</td>\n",
       "      <td>Candy Spellman</td>\n",
       "      <td>2003-09-02</td>\n",
       "      <td>606 National Street</td>\n",
       "      <td>#306</td>\n",
       "      <td>Fayetteville</td>\n",
       "      <td>AR</td>\n",
       "      <td>72701</td>\n",
       "      <td>81744097</td>\n",
       "      <td>YSCJ67489688482590</td>\n",
       "    </tr>\n",
       "    <tr>\n",
       "      <th>3</th>\n",
       "      <td>AGENT00004</td>\n",
       "      <td>Mary Smith</td>\n",
       "      <td>2004-09-23</td>\n",
       "      <td>235 Hugh Thomas Drive</td>\n",
       "      <td>NaN</td>\n",
       "      <td>Panama City</td>\n",
       "      <td>FL</td>\n",
       "      <td>32404</td>\n",
       "      <td>67563771</td>\n",
       "      <td>ZANG21285355574581</td>\n",
       "    </tr>\n",
       "    <tr>\n",
       "      <th>4</th>\n",
       "      <td>AGENT00005</td>\n",
       "      <td>Mildred Diaz</td>\n",
       "      <td>2011-06-21</td>\n",
       "      <td>3426 Broadview Street</td>\n",
       "      <td>NaN</td>\n",
       "      <td>Montgomery</td>\n",
       "      <td>AL</td>\n",
       "      <td>36110</td>\n",
       "      <td>114951317</td>\n",
       "      <td>DZFS82244494451134</td>\n",
       "    </tr>\n",
       "  </tbody>\n",
       "</table>\n",
       "</div>"
      ],
      "text/plain": [
       "     AGENT_ID      AGENT_NAME DATE_OF_JOINING          ADDRESS_LINE1  \\\n",
       "0  AGENT00001       Ray Johns      1993-06-05       1402 Maggies Way   \n",
       "1  AGENT00002   Angelo Borjon      2005-12-27         414 Tanya Pass   \n",
       "2  AGENT00003  Candy Spellman      2003-09-02    606 National Street   \n",
       "3  AGENT00004      Mary Smith      2004-09-23  235 Hugh Thomas Drive   \n",
       "4  AGENT00005    Mildred Diaz      2011-06-21  3426 Broadview Street   \n",
       "\n",
       "  ADDRESS_LINE2              CITY STATE  POSTAL_CODE  EMP_ROUTING_NUMBER  \\\n",
       "0           NaN  Waterbury Center    VT         5677            34584958   \n",
       "1           NaN       Panama City    FL        32404           107363763   \n",
       "2          #306      Fayetteville    AR        72701            81744097   \n",
       "3           NaN       Panama City    FL        32404            67563771   \n",
       "4           NaN        Montgomery    AL        36110           114951317   \n",
       "\n",
       "      EMP_ACCT_NUMBER  \n",
       "0  HKUN51252328472585  \n",
       "1  OPIS19290040088204  \n",
       "2  YSCJ67489688482590  \n",
       "3  ZANG21285355574581  \n",
       "4  DZFS82244494451134  "
      ]
     },
     "execution_count": 7,
     "metadata": {},
     "output_type": "execute_result"
    }
   ],
   "source": [
    "employee.head()"
   ]
  },
  {
   "cell_type": "code",
   "execution_count": 8,
   "metadata": {},
   "outputs": [
    {
     "data": {
      "text/plain": [
       "0"
      ]
     },
     "execution_count": 8,
     "metadata": {},
     "output_type": "execute_result"
    }
   ],
   "source": [
    "#Checking if our dataframe consists any duplicate rows\n",
    "employee.duplicated().sum()"
   ]
  },
  {
   "cell_type": "code",
   "execution_count": 9,
   "metadata": {},
   "outputs": [
    {
     "data": {
      "text/plain": [
       "AGENT_ID                 0\n",
       "AGENT_NAME               0\n",
       "DATE_OF_JOINING          0\n",
       "ADDRESS_LINE1            0\n",
       "ADDRESS_LINE2         1021\n",
       "CITY                     7\n",
       "STATE                    0\n",
       "POSTAL_CODE              0\n",
       "EMP_ROUTING_NUMBER       0\n",
       "EMP_ACCT_NUMBER          0\n",
       "dtype: int64"
      ]
     },
     "execution_count": 9,
     "metadata": {},
     "output_type": "execute_result"
    }
   ],
   "source": [
    "#Checking if our dataframe consists any null values\n",
    "pd.isnull(employee).sum()"
   ]
  },
  {
   "cell_type": "code",
   "execution_count": 10,
   "metadata": {},
   "outputs": [],
   "source": [
    "insurance = pd.read_csv('insurance_data.csv')"
   ]
  },
  {
   "cell_type": "code",
   "execution_count": 11,
   "metadata": {},
   "outputs": [
    {
     "data": {
      "text/plain": [
       "(10000, 38)"
      ]
     },
     "execution_count": 11,
     "metadata": {},
     "output_type": "execute_result"
    }
   ],
   "source": [
    "insurance.shape"
   ]
  },
  {
   "cell_type": "code",
   "execution_count": 94,
   "metadata": {},
   "outputs": [],
   "source": [
    "#insurance.columns"
   ]
  },
  {
   "cell_type": "code",
   "execution_count": 13,
   "metadata": {},
   "outputs": [],
   "source": [
    "#insurance.info()"
   ]
  },
  {
   "cell_type": "code",
   "execution_count": 14,
   "metadata": {},
   "outputs": [
    {
     "data": {
      "text/html": [
       "<div>\n",
       "<style scoped>\n",
       "    .dataframe tbody tr th:only-of-type {\n",
       "        vertical-align: middle;\n",
       "    }\n",
       "\n",
       "    .dataframe tbody tr th {\n",
       "        vertical-align: top;\n",
       "    }\n",
       "\n",
       "    .dataframe thead th {\n",
       "        text-align: right;\n",
       "    }\n",
       "</style>\n",
       "<table border=\"1\" class=\"dataframe\">\n",
       "  <thead>\n",
       "    <tr style=\"text-align: right;\">\n",
       "      <th></th>\n",
       "      <th>TXN_DATE_TIME</th>\n",
       "      <th>TRANSACTION_ID</th>\n",
       "      <th>CUSTOMER_ID</th>\n",
       "      <th>POLICY_NUMBER</th>\n",
       "      <th>POLICY_EFF_DT</th>\n",
       "      <th>LOSS_DT</th>\n",
       "      <th>REPORT_DT</th>\n",
       "      <th>INSURANCE_TYPE</th>\n",
       "      <th>PREMIUM_AMOUNT</th>\n",
       "      <th>CLAIM_AMOUNT</th>\n",
       "      <th>...</th>\n",
       "      <th>CLAIM_STATUS</th>\n",
       "      <th>INCIDENT_SEVERITY</th>\n",
       "      <th>AUTHORITY_CONTACTED</th>\n",
       "      <th>ANY_INJURY</th>\n",
       "      <th>POLICE_REPORT_AVAILABLE</th>\n",
       "      <th>INCIDENT_STATE</th>\n",
       "      <th>INCIDENT_CITY</th>\n",
       "      <th>INCIDENT_HOUR_OF_THE_DAY</th>\n",
       "      <th>AGENT_ID</th>\n",
       "      <th>VENDOR_ID</th>\n",
       "    </tr>\n",
       "  </thead>\n",
       "  <tbody>\n",
       "    <tr>\n",
       "      <th>0</th>\n",
       "      <td>2020-06-01 00:00:00</td>\n",
       "      <td>TXN00000001</td>\n",
       "      <td>A00003822</td>\n",
       "      <td>PLC00008468</td>\n",
       "      <td>2015-06-23</td>\n",
       "      <td>2020-05-16</td>\n",
       "      <td>2020-05-21</td>\n",
       "      <td>Health</td>\n",
       "      <td>157.13</td>\n",
       "      <td>9000</td>\n",
       "      <td>...</td>\n",
       "      <td>A</td>\n",
       "      <td>Major Loss</td>\n",
       "      <td>Police</td>\n",
       "      <td>0</td>\n",
       "      <td>1</td>\n",
       "      <td>GA</td>\n",
       "      <td>Savannah</td>\n",
       "      <td>4</td>\n",
       "      <td>AGENT00413</td>\n",
       "      <td>VNDR00556</td>\n",
       "    </tr>\n",
       "    <tr>\n",
       "      <th>1</th>\n",
       "      <td>2020-06-01 00:00:00</td>\n",
       "      <td>TXN00000002</td>\n",
       "      <td>A00008149</td>\n",
       "      <td>PLC00009594</td>\n",
       "      <td>2018-04-21</td>\n",
       "      <td>2020-05-13</td>\n",
       "      <td>2020-05-18</td>\n",
       "      <td>Property</td>\n",
       "      <td>141.71</td>\n",
       "      <td>26000</td>\n",
       "      <td>...</td>\n",
       "      <td>A</td>\n",
       "      <td>Total Loss</td>\n",
       "      <td>Ambulance</td>\n",
       "      <td>1</td>\n",
       "      <td>0</td>\n",
       "      <td>AL</td>\n",
       "      <td>Montgomery</td>\n",
       "      <td>0</td>\n",
       "      <td>AGENT00769</td>\n",
       "      <td>VNDR00592</td>\n",
       "    </tr>\n",
       "    <tr>\n",
       "      <th>2</th>\n",
       "      <td>2020-06-01 00:00:00</td>\n",
       "      <td>TXN00000003</td>\n",
       "      <td>A00003172</td>\n",
       "      <td>PLC00007969</td>\n",
       "      <td>2019-10-03</td>\n",
       "      <td>2020-05-21</td>\n",
       "      <td>2020-05-26</td>\n",
       "      <td>Property</td>\n",
       "      <td>157.24</td>\n",
       "      <td>13000</td>\n",
       "      <td>...</td>\n",
       "      <td>A</td>\n",
       "      <td>Total Loss</td>\n",
       "      <td>Police</td>\n",
       "      <td>0</td>\n",
       "      <td>1</td>\n",
       "      <td>CO</td>\n",
       "      <td>Grand Junction</td>\n",
       "      <td>19</td>\n",
       "      <td>AGENT00883</td>\n",
       "      <td>VNDR00031</td>\n",
       "    </tr>\n",
       "    <tr>\n",
       "      <th>3</th>\n",
       "      <td>2020-06-01 00:00:00</td>\n",
       "      <td>TXN00000004</td>\n",
       "      <td>A00007572</td>\n",
       "      <td>PLC00009292</td>\n",
       "      <td>2016-11-29</td>\n",
       "      <td>2020-05-14</td>\n",
       "      <td>2020-05-19</td>\n",
       "      <td>Health</td>\n",
       "      <td>172.87</td>\n",
       "      <td>16000</td>\n",
       "      <td>...</td>\n",
       "      <td>A</td>\n",
       "      <td>Minor Loss</td>\n",
       "      <td>Ambulance</td>\n",
       "      <td>0</td>\n",
       "      <td>0</td>\n",
       "      <td>GA</td>\n",
       "      <td>Savannah</td>\n",
       "      <td>12</td>\n",
       "      <td>AGENT00278</td>\n",
       "      <td>VNDR00075</td>\n",
       "    </tr>\n",
       "    <tr>\n",
       "      <th>4</th>\n",
       "      <td>2020-06-01 00:00:00</td>\n",
       "      <td>TXN00000005</td>\n",
       "      <td>A00008173</td>\n",
       "      <td>PLC00000204</td>\n",
       "      <td>2011-12-26</td>\n",
       "      <td>2020-05-17</td>\n",
       "      <td>2020-05-22</td>\n",
       "      <td>Travel</td>\n",
       "      <td>88.53</td>\n",
       "      <td>3000</td>\n",
       "      <td>...</td>\n",
       "      <td>A</td>\n",
       "      <td>Major Loss</td>\n",
       "      <td>Police</td>\n",
       "      <td>0</td>\n",
       "      <td>1</td>\n",
       "      <td>TN</td>\n",
       "      <td>Nashville</td>\n",
       "      <td>18</td>\n",
       "      <td>AGENT00636</td>\n",
       "      <td>VNDR00472</td>\n",
       "    </tr>\n",
       "  </tbody>\n",
       "</table>\n",
       "<p>5 rows × 38 columns</p>\n",
       "</div>"
      ],
      "text/plain": [
       "         TXN_DATE_TIME TRANSACTION_ID CUSTOMER_ID POLICY_NUMBER POLICY_EFF_DT  \\\n",
       "0  2020-06-01 00:00:00    TXN00000001   A00003822   PLC00008468    2015-06-23   \n",
       "1  2020-06-01 00:00:00    TXN00000002   A00008149   PLC00009594    2018-04-21   \n",
       "2  2020-06-01 00:00:00    TXN00000003   A00003172   PLC00007969    2019-10-03   \n",
       "3  2020-06-01 00:00:00    TXN00000004   A00007572   PLC00009292    2016-11-29   \n",
       "4  2020-06-01 00:00:00    TXN00000005   A00008173   PLC00000204    2011-12-26   \n",
       "\n",
       "      LOSS_DT   REPORT_DT INSURANCE_TYPE  PREMIUM_AMOUNT  CLAIM_AMOUNT  ...  \\\n",
       "0  2020-05-16  2020-05-21         Health          157.13          9000  ...   \n",
       "1  2020-05-13  2020-05-18       Property          141.71         26000  ...   \n",
       "2  2020-05-21  2020-05-26       Property          157.24         13000  ...   \n",
       "3  2020-05-14  2020-05-19         Health          172.87         16000  ...   \n",
       "4  2020-05-17  2020-05-22         Travel           88.53          3000  ...   \n",
       "\n",
       "  CLAIM_STATUS INCIDENT_SEVERITY AUTHORITY_CONTACTED ANY_INJURY  \\\n",
       "0            A        Major Loss              Police          0   \n",
       "1            A        Total Loss           Ambulance          1   \n",
       "2            A        Total Loss              Police          0   \n",
       "3            A        Minor Loss           Ambulance          0   \n",
       "4            A        Major Loss              Police          0   \n",
       "\n",
       "  POLICE_REPORT_AVAILABLE  INCIDENT_STATE   INCIDENT_CITY  \\\n",
       "0                       1              GA        Savannah   \n",
       "1                       0              AL      Montgomery   \n",
       "2                       1              CO  Grand Junction   \n",
       "3                       0              GA        Savannah   \n",
       "4                       1              TN       Nashville   \n",
       "\n",
       "  INCIDENT_HOUR_OF_THE_DAY    AGENT_ID  VENDOR_ID  \n",
       "0                        4  AGENT00413  VNDR00556  \n",
       "1                        0  AGENT00769  VNDR00592  \n",
       "2                       19  AGENT00883  VNDR00031  \n",
       "3                       12  AGENT00278  VNDR00075  \n",
       "4                       18  AGENT00636  VNDR00472  \n",
       "\n",
       "[5 rows x 38 columns]"
      ]
     },
     "execution_count": 14,
     "metadata": {},
     "output_type": "execute_result"
    }
   ],
   "source": [
    "insurance.head()"
   ]
  },
  {
   "cell_type": "code",
   "execution_count": 15,
   "metadata": {},
   "outputs": [
    {
     "data": {
      "text/plain": [
       "0"
      ]
     },
     "execution_count": 15,
     "metadata": {},
     "output_type": "execute_result"
    }
   ],
   "source": [
    "#Checking if our dataframe consists any duplicate rows\n",
    "insurance.duplicated().sum()"
   ]
  },
  {
   "cell_type": "code",
   "execution_count": 16,
   "metadata": {},
   "outputs": [
    {
     "data": {
      "text/plain": [
       "TXN_DATE_TIME                  0\n",
       "TRANSACTION_ID                 0\n",
       "CUSTOMER_ID                    0\n",
       "POLICY_NUMBER                  0\n",
       "POLICY_EFF_DT                  0\n",
       "LOSS_DT                        0\n",
       "REPORT_DT                      0\n",
       "INSURANCE_TYPE                 0\n",
       "PREMIUM_AMOUNT                 0\n",
       "CLAIM_AMOUNT                   0\n",
       "CUSTOMER_NAME                  0\n",
       "ADDRESS_LINE1                  0\n",
       "ADDRESS_LINE2               8505\n",
       "CITY                          54\n",
       "STATE                          0\n",
       "POSTAL_CODE                    0\n",
       "SSN                            0\n",
       "MARITAL_STATUS                 0\n",
       "AGE                            0\n",
       "TENURE                         0\n",
       "EMPLOYMENT_STATUS              0\n",
       "NO_OF_FAMILY_MEMBERS           0\n",
       "RISK_SEGMENTATION              0\n",
       "HOUSE_TYPE                     0\n",
       "SOCIAL_CLASS                   0\n",
       "ROUTING_NUMBER                 0\n",
       "ACCT_NUMBER                    0\n",
       "CUSTOMER_EDUCATION_LEVEL     529\n",
       "CLAIM_STATUS                   0\n",
       "INCIDENT_SEVERITY              0\n",
       "AUTHORITY_CONTACTED            0\n",
       "ANY_INJURY                     0\n",
       "POLICE_REPORT_AVAILABLE        0\n",
       "INCIDENT_STATE                 0\n",
       "INCIDENT_CITY                 46\n",
       "INCIDENT_HOUR_OF_THE_DAY       0\n",
       "AGENT_ID                       0\n",
       "VENDOR_ID                   3245\n",
       "dtype: int64"
      ]
     },
     "execution_count": 16,
     "metadata": {},
     "output_type": "execute_result"
    }
   ],
   "source": [
    "#Checking if our dataframe consists any null values\n",
    "pd.isnull(insurance).sum()"
   ]
  },
  {
   "cell_type": "code",
   "execution_count": 17,
   "metadata": {},
   "outputs": [
    {
     "data": {
      "text/plain": [
       "'2020-06-01 00:00:00'"
      ]
     },
     "execution_count": 17,
     "metadata": {},
     "output_type": "execute_result"
    }
   ],
   "source": [
    "insurance.loc[:,'TXN_DATE_TIME'].min() #Checking the timeframe of the available dataset"
   ]
  },
  {
   "cell_type": "code",
   "execution_count": 18,
   "metadata": {},
   "outputs": [
    {
     "data": {
      "text/plain": [
       "'2021-06-30 00:00:00'"
      ]
     },
     "execution_count": 18,
     "metadata": {},
     "output_type": "execute_result"
    }
   ],
   "source": [
    "insurance.loc[:,'TXN_DATE_TIME'].max() # #Checking the timeframe of the available dataset"
   ]
  },
  {
   "cell_type": "code",
   "execution_count": 19,
   "metadata": {},
   "outputs": [],
   "source": [
    "vendor = pd.read_csv('vendor_data.csv')"
   ]
  },
  {
   "cell_type": "code",
   "execution_count": 20,
   "metadata": {},
   "outputs": [
    {
     "data": {
      "text/plain": [
       "(600, 7)"
      ]
     },
     "execution_count": 20,
     "metadata": {},
     "output_type": "execute_result"
    }
   ],
   "source": [
    "vendor.shape"
   ]
  },
  {
   "cell_type": "code",
   "execution_count": 96,
   "metadata": {},
   "outputs": [],
   "source": [
    "#vendor.columns"
   ]
  },
  {
   "cell_type": "code",
   "execution_count": 22,
   "metadata": {},
   "outputs": [
    {
     "name": "stdout",
     "output_type": "stream",
     "text": [
      "<class 'pandas.core.frame.DataFrame'>\n",
      "RangeIndex: 600 entries, 0 to 599\n",
      "Data columns (total 7 columns):\n",
      " #   Column         Non-Null Count  Dtype \n",
      "---  ------         --------------  ----- \n",
      " 0   VENDOR_ID      600 non-null    object\n",
      " 1   VENDOR_NAME    600 non-null    object\n",
      " 2   ADDRESS_LINE1  600 non-null    object\n",
      " 3   ADDRESS_LINE2  97 non-null     object\n",
      " 4   CITY           594 non-null    object\n",
      " 5   STATE          600 non-null    object\n",
      " 6   POSTAL_CODE    600 non-null    int64 \n",
      "dtypes: int64(1), object(6)\n",
      "memory usage: 18.8+ KB\n"
     ]
    }
   ],
   "source": [
    "vendor.info()"
   ]
  },
  {
   "cell_type": "code",
   "execution_count": 23,
   "metadata": {},
   "outputs": [
    {
     "data": {
      "text/plain": [
       "VENDOR_ID          0\n",
       "VENDOR_NAME        0\n",
       "ADDRESS_LINE1      0\n",
       "ADDRESS_LINE2    503\n",
       "CITY               6\n",
       "STATE              0\n",
       "POSTAL_CODE        0\n",
       "dtype: int64"
      ]
     },
     "execution_count": 23,
     "metadata": {},
     "output_type": "execute_result"
    }
   ],
   "source": [
    "#Checking if our dataframe consists any null values\n",
    "pd.isnull(vendor).sum()"
   ]
  },
  {
   "cell_type": "code",
   "execution_count": 24,
   "metadata": {},
   "outputs": [
    {
     "data": {
      "text/plain": [
       "0"
      ]
     },
     "execution_count": 24,
     "metadata": {},
     "output_type": "execute_result"
    }
   ],
   "source": [
    "#Checking if our dataframe consists any duplicate rows\n",
    "vendor.duplicated().sum()"
   ]
  },
  {
   "cell_type": "code",
   "execution_count": 25,
   "metadata": {},
   "outputs": [
    {
     "data": {
      "text/html": [
       "<div>\n",
       "<style scoped>\n",
       "    .dataframe tbody tr th:only-of-type {\n",
       "        vertical-align: middle;\n",
       "    }\n",
       "\n",
       "    .dataframe tbody tr th {\n",
       "        vertical-align: top;\n",
       "    }\n",
       "\n",
       "    .dataframe thead th {\n",
       "        text-align: right;\n",
       "    }\n",
       "</style>\n",
       "<table border=\"1\" class=\"dataframe\">\n",
       "  <thead>\n",
       "    <tr style=\"text-align: right;\">\n",
       "      <th></th>\n",
       "      <th>VENDOR_ID</th>\n",
       "      <th>VENDOR_NAME</th>\n",
       "      <th>ADDRESS_LINE1</th>\n",
       "      <th>ADDRESS_LINE2</th>\n",
       "      <th>CITY</th>\n",
       "      <th>STATE</th>\n",
       "      <th>POSTAL_CODE</th>\n",
       "    </tr>\n",
       "  </thead>\n",
       "  <tbody>\n",
       "    <tr>\n",
       "      <th>0</th>\n",
       "      <td>VNDR00001</td>\n",
       "      <td>King, Proctor and Jones</td>\n",
       "      <td>2027 North Shannon Drive</td>\n",
       "      <td>#5</td>\n",
       "      <td>Fayetteville</td>\n",
       "      <td>AR</td>\n",
       "      <td>72703</td>\n",
       "    </tr>\n",
       "    <tr>\n",
       "      <th>1</th>\n",
       "      <td>VNDR00002</td>\n",
       "      <td>Garcia Ltd</td>\n",
       "      <td>5701 East Shirley Lane</td>\n",
       "      <td>NaN</td>\n",
       "      <td>Montgomery</td>\n",
       "      <td>AL</td>\n",
       "      <td>36117</td>\n",
       "    </tr>\n",
       "    <tr>\n",
       "      <th>2</th>\n",
       "      <td>VNDR00003</td>\n",
       "      <td>Cherry LLC</td>\n",
       "      <td>1217 Cottondale Road</td>\n",
       "      <td>NaN</td>\n",
       "      <td>Montgomery</td>\n",
       "      <td>AL</td>\n",
       "      <td>36109</td>\n",
       "    </tr>\n",
       "    <tr>\n",
       "      <th>3</th>\n",
       "      <td>VNDR00004</td>\n",
       "      <td>Mays-Benson</td>\n",
       "      <td>227 West Montgomery Cross Road</td>\n",
       "      <td>#736</td>\n",
       "      <td>Savannah</td>\n",
       "      <td>GA</td>\n",
       "      <td>31406</td>\n",
       "    </tr>\n",
       "    <tr>\n",
       "      <th>4</th>\n",
       "      <td>VNDR00005</td>\n",
       "      <td>Wilson PLC</td>\n",
       "      <td>23 North Hill Street</td>\n",
       "      <td>NaN</td>\n",
       "      <td>Nashville</td>\n",
       "      <td>TN</td>\n",
       "      <td>37210</td>\n",
       "    </tr>\n",
       "  </tbody>\n",
       "</table>\n",
       "</div>"
      ],
      "text/plain": [
       "   VENDOR_ID              VENDOR_NAME                   ADDRESS_LINE1  \\\n",
       "0  VNDR00001  King, Proctor and Jones        2027 North Shannon Drive   \n",
       "1  VNDR00002               Garcia Ltd          5701 East Shirley Lane   \n",
       "2  VNDR00003               Cherry LLC            1217 Cottondale Road   \n",
       "3  VNDR00004              Mays-Benson  227 West Montgomery Cross Road   \n",
       "4  VNDR00005               Wilson PLC            23 North Hill Street   \n",
       "\n",
       "  ADDRESS_LINE2          CITY STATE  POSTAL_CODE  \n",
       "0            #5  Fayetteville    AR        72703  \n",
       "1           NaN    Montgomery    AL        36117  \n",
       "2           NaN    Montgomery    AL        36109  \n",
       "3          #736      Savannah    GA        31406  \n",
       "4           NaN     Nashville    TN        37210  "
      ]
     },
     "execution_count": 25,
     "metadata": {},
     "output_type": "execute_result"
    }
   ],
   "source": [
    "vendor.head()"
   ]
  },
  {
   "cell_type": "markdown",
   "metadata": {},
   "source": [
    "### Merging the datasets to create one view of data "
   ]
  },
  {
   "cell_type": "code",
   "execution_count": 26,
   "metadata": {},
   "outputs": [],
   "source": [
    "##\n",
    "employee_insurance = pd.merge(insurance, employee, on = 'AGENT_ID', how ='left')"
   ]
  },
  {
   "cell_type": "code",
   "execution_count": 27,
   "metadata": {},
   "outputs": [
    {
     "data": {
      "text/plain": [
       "(10000, 47)"
      ]
     },
     "execution_count": 27,
     "metadata": {},
     "output_type": "execute_result"
    }
   ],
   "source": [
    "employee_insurance.shape"
   ]
  },
  {
   "cell_type": "markdown",
   "metadata": {},
   "source": [
    "### Merging the datasets to create one view of data "
   ]
  },
  {
   "cell_type": "code",
   "execution_count": 28,
   "metadata": {},
   "outputs": [],
   "source": [
    "##\n",
    "Final_df = pd.merge(employee_insurance, vendor,  on = 'VENDOR_ID', how = 'left') "
   ]
  },
  {
   "cell_type": "code",
   "execution_count": 29,
   "metadata": {},
   "outputs": [
    {
     "data": {
      "text/plain": [
       "(10000, 53)"
      ]
     },
     "execution_count": 29,
     "metadata": {},
     "output_type": "execute_result"
    }
   ],
   "source": [
    "Final_df.shape"
   ]
  },
  {
   "cell_type": "code",
   "execution_count": 97,
   "metadata": {},
   "outputs": [],
   "source": [
    "#Final_df.columns"
   ]
  },
  {
   "cell_type": "code",
   "execution_count": 31,
   "metadata": {},
   "outputs": [],
   "source": [
    "#Final_df.info()"
   ]
  },
  {
   "cell_type": "raw",
   "metadata": {},
   "source": [
    "# Agent data\n",
    "ADDRESS_LINE1_x\n",
    "ADDRESS_LINE2_x\n",
    "CITY_x\n",
    "STATE_x\n",
    "POSTAL_CODE_x    "
   ]
  },
  {
   "cell_type": "raw",
   "metadata": {},
   "source": [
    "# Customer data from insurance file\n",
    "ADDRESS_LINE1_y\n",
    "ADDRESS_LINE2_y\n",
    "CITY_y\n",
    "STATE_y\n",
    "POSTAL_CODE_y "
   ]
  },
  {
   "cell_type": "raw",
   "metadata": {},
   "source": [
    "# Vendor data \n",
    "ADDRESS_LINE1 \n",
    "ADDRESS_LINE2\n",
    "CITY\n",
    "STATE\n",
    "POSTAL_CODE      "
   ]
  },
  {
   "cell_type": "code",
   "execution_count": 32,
   "metadata": {
    "scrolled": true
   },
   "outputs": [
    {
     "data": {
      "text/plain": [
       "TXN_DATE_TIME                  0\n",
       "TRANSACTION_ID                 0\n",
       "CUSTOMER_ID                    0\n",
       "POLICY_NUMBER                  0\n",
       "POLICY_EFF_DT                  0\n",
       "LOSS_DT                        0\n",
       "REPORT_DT                      0\n",
       "INSURANCE_TYPE                 0\n",
       "PREMIUM_AMOUNT                 0\n",
       "CLAIM_AMOUNT                   0\n",
       "CUSTOMER_NAME                  0\n",
       "ADDRESS_LINE1_x                0\n",
       "ADDRESS_LINE2_x             8505\n",
       "CITY_x                        54\n",
       "STATE_x                        0\n",
       "POSTAL_CODE_x                  0\n",
       "SSN                            0\n",
       "MARITAL_STATUS                 0\n",
       "AGE                            0\n",
       "TENURE                         0\n",
       "EMPLOYMENT_STATUS              0\n",
       "NO_OF_FAMILY_MEMBERS           0\n",
       "RISK_SEGMENTATION              0\n",
       "HOUSE_TYPE                     0\n",
       "SOCIAL_CLASS                   0\n",
       "ROUTING_NUMBER                 0\n",
       "ACCT_NUMBER                    0\n",
       "CUSTOMER_EDUCATION_LEVEL     529\n",
       "CLAIM_STATUS                   0\n",
       "INCIDENT_SEVERITY              0\n",
       "AUTHORITY_CONTACTED            0\n",
       "ANY_INJURY                     0\n",
       "POLICE_REPORT_AVAILABLE        0\n",
       "INCIDENT_STATE                 0\n",
       "INCIDENT_CITY                 46\n",
       "INCIDENT_HOUR_OF_THE_DAY       0\n",
       "AGENT_ID                       0\n",
       "VENDOR_ID                   3245\n",
       "AGENT_NAME                     0\n",
       "DATE_OF_JOINING                0\n",
       "ADDRESS_LINE1_y                0\n",
       "ADDRESS_LINE2_y             8549\n",
       "CITY_y                        54\n",
       "STATE_y                        0\n",
       "POSTAL_CODE_y                  0\n",
       "EMP_ROUTING_NUMBER             0\n",
       "EMP_ACCT_NUMBER                0\n",
       "VENDOR_NAME                 3245\n",
       "ADDRESS_LINE1               3245\n",
       "ADDRESS_LINE2               8855\n",
       "CITY                        3287\n",
       "STATE                       3245\n",
       "POSTAL_CODE                 3245\n",
       "dtype: int64"
      ]
     },
     "execution_count": 32,
     "metadata": {},
     "output_type": "execute_result"
    }
   ],
   "source": [
    "Final_df.isnull().sum()"
   ]
  },
  {
   "cell_type": "code",
   "execution_count": 33,
   "metadata": {},
   "outputs": [
    {
     "data": {
      "text/plain": [
       "0"
      ]
     },
     "execution_count": 33,
     "metadata": {},
     "output_type": "execute_result"
    }
   ],
   "source": [
    "#Checking if our dataframe consists any duplicate rows\n",
    "Final_df.duplicated().sum()"
   ]
  },
  {
   "cell_type": "code",
   "execution_count": 34,
   "metadata": {},
   "outputs": [
    {
     "data": {
      "text/plain": [
       "Property    1692\n",
       "Mobile      1692\n",
       "Health      1690\n",
       "Life        1682\n",
       "Travel      1670\n",
       "Motor       1574\n",
       "Name: INSURANCE_TYPE, dtype: int64"
      ]
     },
     "execution_count": 34,
     "metadata": {},
     "output_type": "execute_result"
    }
   ],
   "source": [
    "Final_df['INSURANCE_TYPE'].value_counts()"
   ]
  },
  {
   "cell_type": "code",
   "execution_count": 35,
   "metadata": {
    "scrolled": true
   },
   "outputs": [
    {
     "data": {
      "text/plain": [
       "L    4395\n",
       "M    4150\n",
       "H    1455\n",
       "Name: RISK_SEGMENTATION, dtype: int64"
      ]
     },
     "execution_count": 35,
     "metadata": {},
     "output_type": "execute_result"
    }
   ],
   "source": [
    "Final_df['RISK_SEGMENTATION'].value_counts()"
   ]
  },
  {
   "cell_type": "code",
   "execution_count": 36,
   "metadata": {},
   "outputs": [
    {
     "data": {
      "text/plain": [
       "Ambulance    4082\n",
       "Police       2982\n",
       "None         1945\n",
       "Other         991\n",
       "Name: AUTHORITY_CONTACTED, dtype: int64"
      ]
     },
     "execution_count": 36,
     "metadata": {},
     "output_type": "execute_result"
    }
   ],
   "source": [
    "Final_df['AUTHORITY_CONTACTED'].value_counts()"
   ]
  },
  {
   "cell_type": "code",
   "execution_count": 37,
   "metadata": {},
   "outputs": [
    {
     "data": {
      "text/plain": [
       "MI    4794\n",
       "LI    2727\n",
       "HI    2479\n",
       "Name: SOCIAL_CLASS, dtype: int64"
      ]
     },
     "execution_count": 37,
     "metadata": {},
     "output_type": "execute_result"
    }
   ],
   "source": [
    "Final_df['SOCIAL_CLASS'].value_counts()"
   ]
  },
  {
   "cell_type": "code",
   "execution_count": 38,
   "metadata": {},
   "outputs": [
    {
     "data": {
      "text/plain": [
       "Mortgage    3652\n",
       "Rent        3385\n",
       "Own         2963\n",
       "Name: HOUSE_TYPE, dtype: int64"
      ]
     },
     "execution_count": 38,
     "metadata": {},
     "output_type": "execute_result"
    }
   ],
   "source": [
    "Final_df['HOUSE_TYPE'].value_counts()"
   ]
  },
  {
   "cell_type": "markdown",
   "metadata": {},
   "source": [
    "### Top Insurance type where we are getting most insurance claims"
   ]
  },
  {
   "cell_type": "code",
   "execution_count": 39,
   "metadata": {},
   "outputs": [
    {
     "data": {
      "text/plain": [
       "Property    1692\n",
       "Mobile      1692\n",
       "Health      1690\n",
       "Life        1682\n",
       "Travel      1670\n",
       "Motor       1574\n",
       "Name: INSURANCE_TYPE, dtype: int64"
      ]
     },
     "execution_count": 39,
     "metadata": {},
     "output_type": "execute_result"
    }
   ],
   "source": [
    "Final_df['INSURANCE_TYPE'].value_counts()\n",
    "# We have 1692 number of insurance claims for both Mobile and Property type.\n",
    "# This is immediately followed by Health with 1690 claims\n",
    "# We have 1682 claims for the Life insurance type"
   ]
  },
  {
   "cell_type": "code",
   "execution_count": 40,
   "metadata": {},
   "outputs": [
    {
     "data": {
      "image/png": "[encoded data removed]",
      "text/plain": [
       "<Figure size 1080x432 with 1 Axes>"
      ]
     },
     "metadata": {
      "needs_background": "light"
     },
     "output_type": "display_data"
    }
   ],
   "source": [
    "Final_df['INSURANCE_TYPE'].value_counts().plot(kind ='bar', figsize=(15,6))\n",
    "plt.xlabel('Insuarnce Type')\n",
    "plt.ylabel('No of Insurance Claims')\n",
    "plt.title('Distribution of claims for each Insuarnce Type')\n",
    "plt.show()"
   ]
  },
  {
   "cell_type": "markdown",
   "metadata": {},
   "source": [
    "### Top 5 states where we are getting most insurance claims"
   ]
  },
  {
   "cell_type": "code",
   "execution_count": 41,
   "metadata": {},
   "outputs": [
    {
     "data": {
      "text/plain": [
       "CA    1214\n",
       "CO     747\n",
       "AZ     678\n",
       "GA     655\n",
       "DC     628\n",
       "Name: STATE_y, dtype: int64"
      ]
     },
     "execution_count": 41,
     "metadata": {},
     "output_type": "execute_result"
    }
   ],
   "source": [
    "Final_df['STATE_y'].value_counts()[0:5]"
   ]
  },
  {
   "cell_type": "code",
   "execution_count": 42,
   "metadata": {},
   "outputs": [
    {
     "data": {
      "image/png": "[encoded data removed]",
      "text/plain": [
       "<Figure size 1080x432 with 1 Axes>"
      ]
     },
     "metadata": {
      "needs_background": "light"
     },
     "output_type": "display_data"
    }
   ],
   "source": [
    "Final_df['STATE_y'].value_counts()[0:5].plot(kind ='bar', figsize=(15,6))\n",
    "plt.xlabel('States')\n",
    "plt.ylabel('No of Insurance Claims')\n",
    "plt.title('Distribution of claims for each State')\n",
    "plt.show()"
   ]
  },
  {
   "cell_type": "markdown",
   "metadata": {},
   "source": [
    "### Top 5 states where we are getting most insurance claims for customers belonging to different risk segments."
   ]
  },
  {
   "cell_type": "code",
   "execution_count": 43,
   "metadata": {},
   "outputs": [],
   "source": [
    "top5_rs = Final_df.groupby(['RISK_SEGMENTATION'])"
   ]
  },
  {
   "cell_type": "code",
   "execution_count": 44,
   "metadata": {},
   "outputs": [
    {
     "name": "stdout",
     "output_type": "stream",
     "text": [
      "For risk segementation H\n",
      "CA    204\n",
      "DC    100\n",
      "CO     98\n",
      "MD     91\n",
      "AZ     91\n",
      "Name: STATE_y, dtype: int64\n",
      "\n",
      "\n",
      "Distribution of claims for each State by H\n"
     ]
    },
    {
     "data": {
      "image/png": "[encoded data removed]",
      "text/plain": [
       "<Figure size 1080x432 with 1 Axes>"
      ]
     },
     "metadata": {
      "needs_background": "light"
     },
     "output_type": "display_data"
    },
    {
     "name": "stdout",
     "output_type": "stream",
     "text": [
      "For risk segementation L\n",
      "CA    530\n",
      "CO    335\n",
      "OK    299\n",
      "GA    294\n",
      "AZ    281\n",
      "Name: STATE_y, dtype: int64\n",
      "\n",
      "\n",
      "Distribution of claims for each State by L\n"
     ]
    },
    {
     "data": {
      "image/png": "[encoded data removed]",
      "text/plain": [
       "<Figure size 1080x432 with 1 Axes>"
      ]
     },
     "metadata": {
      "needs_background": "light"
     },
     "output_type": "display_data"
    },
    {
     "name": "stdout",
     "output_type": "stream",
     "text": [
      "For risk segementation M\n",
      "CA    480\n",
      "CO    314\n",
      "AZ    306\n",
      "DC    280\n",
      "GA    279\n",
      "Name: STATE_y, dtype: int64\n",
      "\n",
      "\n",
      "Distribution of claims for each State by M\n"
     ]
    },
    {
     "data": {
      "image/png": "[encoded data removed]",
      "text/plain": [
       "<Figure size 1080x432 with 1 Axes>"
      ]
     },
     "metadata": {
      "needs_background": "light"
     },
     "output_type": "display_data"
    }
   ],
   "source": [
    "for risk_type, risk_type_df in top5_rs:\n",
    "    print('For risk segementation',risk_type)\n",
    "    print(risk_type_df['STATE_y'].value_counts()[0:5], end = '\\n\\n\\n')\n",
    "    risk_type_df['STATE_y'].value_counts()[0:5].plot(kind ='bar', figsize=(15,6))\n",
    "    plt.xlabel('States')\n",
    "    plt.ylabel('No of Insurance Claims')\n",
    "    plt.title(print('Distribution of claims for each State by',risk_type))\n",
    "    plt.show()\n",
    "\n",
    "#State CA tops the list for all the risk segments\n",
    "    \n",
    "#For customers belonging to High (H) risk segment\n",
    "#We have CA with 204 claims followed by DC with 100 claims and then we have CO, AZ, and MD.\n",
    "\n",
    "#For customers belonging to Low (L) risk segment\n",
    "#We have CA with 530 claims followed by CO with 335 claims and then we have OK, GA and AZ.\n",
    "\n",
    "#For customers belonging to Medium (M) risk segment\n",
    "#We have CA with 480 claims followed by CO with 314 claims and then we have AZ, DC and GA."
   ]
  },
  {
   "cell_type": "markdown",
   "metadata": {},
   "source": [
    "### Top 5 cities where we are getting most insurance claims"
   ]
  },
  {
   "cell_type": "code",
   "execution_count": 45,
   "metadata": {},
   "outputs": [
    {
     "data": {
      "text/plain": [
       "Arvada        641\n",
       "Washington    628\n",
       "Manchester    608\n",
       "Anchorage     596\n",
       "Glendale      591\n",
       "Name: CITY_y, dtype: int64"
      ]
     },
     "execution_count": 45,
     "metadata": {},
     "output_type": "execute_result"
    }
   ],
   "source": [
    "Final_df['CITY_y'].value_counts()[0:5]"
   ]
  },
  {
   "cell_type": "code",
   "execution_count": 46,
   "metadata": {},
   "outputs": [
    {
     "data": {
      "image/png": "[encoded data removed]",
      "text/plain": [
       "<Figure size 1080x432 with 1 Axes>"
      ]
     },
     "metadata": {
      "needs_background": "light"
     },
     "output_type": "display_data"
    }
   ],
   "source": [
    "Final_df['CITY_y'].value_counts()[0:5].plot(kind ='bar', figsize=(15,6))\n",
    "plt.xlabel('Cities')\n",
    "plt.ylabel('No of Insurance Claims')\n",
    "plt.title('Distribution of claims for each City')\n",
    "plt.show()"
   ]
  },
  {
   "cell_type": "markdown",
   "metadata": {},
   "source": [
    "### Top 5 cities where we are getting most insurance claims for customers belonging to different risk segments."
   ]
  },
  {
   "cell_type": "code",
   "execution_count": 47,
   "metadata": {},
   "outputs": [
    {
     "name": "stdout",
     "output_type": "stream",
     "text": [
      "For risk segementation H\n",
      "Washington    100\n",
      "Arvada         88\n",
      "Anchorage      84\n",
      "Manchester     83\n",
      "Montgomery     81\n",
      "Name: CITY_y, dtype: int64\n",
      "\n",
      "\n",
      "Distribution of claims for each City by H\n"
     ]
    },
    {
     "data": {
      "image/png": "[encoded data removed]",
      "text/plain": [
       "<Figure size 1080x432 with 1 Axes>"
      ]
     },
     "metadata": {
      "needs_background": "light"
     },
     "output_type": "display_data"
    },
    {
     "name": "stdout",
     "output_type": "stream",
     "text": [
      "For risk segementation L\n",
      "Arvada        284\n",
      "Anchorage     270\n",
      "Manchester    261\n",
      "Glendale      249\n",
      "Washington    248\n",
      "Name: CITY_y, dtype: int64\n",
      "\n",
      "\n",
      "Distribution of claims for each City by L\n"
     ]
    },
    {
     "data": {
      "image/png": "[encoded data removed]",
      "text/plain": [
       "<Figure size 1080x432 with 1 Axes>"
      ]
     },
     "metadata": {
      "needs_background": "light"
     },
     "output_type": "display_data"
    },
    {
     "name": "stdout",
     "output_type": "stream",
     "text": [
      "For risk segementation M\n",
      "Washington    280\n",
      "Arvada        269\n",
      "Manchester    264\n",
      "Glendale      261\n",
      "Montgomery    246\n",
      "Name: CITY_y, dtype: int64\n",
      "\n",
      "\n",
      "Distribution of claims for each City by M\n"
     ]
    },
    {
     "data": {
      "image/png": "[encoded data removed]",
      "text/plain": [
       "<Figure size 1080x432 with 1 Axes>"
      ]
     },
     "metadata": {
      "needs_background": "light"
     },
     "output_type": "display_data"
    }
   ],
   "source": [
    "for risk_type, risk_type_df in top5_rs:\n",
    "    print('For risk segementation',risk_type)\n",
    "    print(risk_type_df['CITY_y'].value_counts()[0:5], end = '\\n\\n\\n')\n",
    "    risk_type_df['CITY_y'].value_counts()[0:5].plot(kind ='bar', figsize=(15,6))\n",
    "    plt.xlabel('Cities')\n",
    "    plt.ylabel('No of Insurance Claims')\n",
    "    plt.title(print('Distribution of claims for each City by',risk_type))\n",
    "    plt.show()\n",
    "    \n",
    "    \n",
    "# We can see that top 5 cities within each risk segment are almost the same."
   ]
  },
  {
   "cell_type": "code",
   "execution_count": null,
   "metadata": {},
   "outputs": [],
   "source": []
  },
  {
   "cell_type": "code",
   "execution_count": 48,
   "metadata": {},
   "outputs": [],
   "source": [
    "status = Final_df.groupby(['CLAIM_STATUS'])"
   ]
  },
  {
   "cell_type": "code",
   "execution_count": 49,
   "metadata": {},
   "outputs": [
    {
     "name": "stdout",
     "output_type": "stream",
     "text": [
      "For claim_status A\n",
      "L    4173\n",
      "M    3929\n",
      "H    1395\n",
      "Name: RISK_SEGMENTATION, dtype: int64\n",
      "\n",
      "\n",
      "For claim_status D\n",
      "L    222\n",
      "M    221\n",
      "H     60\n",
      "Name: RISK_SEGMENTATION, dtype: int64\n",
      "\n",
      "\n"
     ]
    }
   ],
   "source": [
    "for claim_status, claim_status_df in status:\n",
    "    print('For claim_status',claim_status)\n",
    "    print(claim_status_df['RISK_SEGMENTATION'].value_counts()[0:5], end = '\\n\\n\\n')"
   ]
  },
  {
   "cell_type": "code",
   "execution_count": 50,
   "metadata": {},
   "outputs": [
    {
     "name": "stdout",
     "output_type": "stream",
     "text": [
      "For claim_status A\n",
      "Property    1608\n",
      "Mobile      1608\n",
      "Health      1605\n",
      "Life        1605\n",
      "Travel      1582\n",
      "Name: INSURANCE_TYPE, dtype: int64\n",
      "\n",
      "\n",
      "For claim_status D\n",
      "Travel      88\n",
      "Motor       85\n",
      "Health      85\n",
      "Property    84\n",
      "Mobile      84\n",
      "Name: INSURANCE_TYPE, dtype: int64\n",
      "\n",
      "\n"
     ]
    }
   ],
   "source": [
    "for claim_status, claim_status_df in status:\n",
    "    print('For claim_status',claim_status)\n",
    "    print(claim_status_df['INSURANCE_TYPE'].value_counts()[0:5], end = '\\n\\n\\n') "
   ]
  },
  {
   "cell_type": "markdown",
   "metadata": {},
   "source": [
    "### Creating an indicator variable if Customer, Agent and Incident location is from same State"
   ]
  },
  {
   "cell_type": "code",
   "execution_count": 51,
   "metadata": {},
   "outputs": [],
   "source": [
    "# where function\n",
    "Final_df['COLOCATION'] = np.where((Final_df['STATE_y'] == Final_df['INCIDENT_STATE']) & (Final_df['STATE_y'] == Final_df['STATE_x']), 1, 0)"
   ]
  },
  {
   "cell_type": "code",
   "execution_count": 52,
   "metadata": {},
   "outputs": [
    {
     "data": {
      "text/plain": [
       "0    9956\n",
       "1      44\n",
       "Name: COLOCATION, dtype: int64"
      ]
     },
     "execution_count": 52,
     "metadata": {},
     "output_type": "execute_result"
    }
   ],
   "source": [
    "Final_df['COLOCATION'].value_counts()"
   ]
  },
  {
   "cell_type": "code",
   "execution_count": 53,
   "metadata": {},
   "outputs": [
    {
     "data": {
      "text/plain": [
       "Ambulance    4082\n",
       "Police       2982\n",
       "None         1945\n",
       "Other         991\n",
       "Name: AUTHORITY_CONTACTED, dtype: int64"
      ]
     },
     "execution_count": 53,
     "metadata": {},
     "output_type": "execute_result"
    }
   ],
   "source": [
    "Final_df['AUTHORITY_CONTACTED'].value_counts()"
   ]
  },
  {
   "cell_type": "code",
   "execution_count": 54,
   "metadata": {},
   "outputs": [
    {
     "data": {
      "text/plain": [
       "1    6928\n",
       "0    3072\n",
       "Name: POLICE_REPORT_AVAILABLE, dtype: int64"
      ]
     },
     "execution_count": 54,
     "metadata": {},
     "output_type": "execute_result"
    }
   ],
   "source": [
    "Final_df['POLICE_REPORT_AVAILABLE'].value_counts()"
   ]
  },
  {
   "cell_type": "code",
   "execution_count": 55,
   "metadata": {},
   "outputs": [
    {
     "data": {
      "text/plain": [
       "AUTHORITY_CONTACTED  POLICE_REPORT_AVAILABLE\n",
       "Ambulance            1                          2821\n",
       "None                 1                          1367\n",
       "Other                1                           682\n",
       "dtype: int64"
      ]
     },
     "execution_count": 55,
     "metadata": {},
     "output_type": "execute_result"
    }
   ],
   "source": [
    "Final_df[(Final_df['AUTHORITY_CONTACTED'] != 'Police') & (Final_df['POLICE_REPORT_AVAILABLE'] == 1)][['AUTHORITY_CONTACTED','POLICE_REPORT_AVAILABLE']].value_counts()"
   ]
  },
  {
   "cell_type": "markdown",
   "metadata": {},
   "source": [
    "### Updating the data frame \n",
    "### If for any claim transaction 'AUTHORITY_CONTACTED' is Not 'Police' and POLICE_REPORT_AVAILABLE==1\n",
    "### then update AUTHORITY_CONTACTED to Police."
   ]
  },
  {
   "cell_type": "code",
   "execution_count": 56,
   "metadata": {},
   "outputs": [],
   "source": [
    "# mask function\n",
    "Final_df['AUTHORITY_CONTACTED'].mask((Final_df['AUTHORITY_CONTACTED'] != 'Police') & (Final_df['POLICE_REPORT_AVAILABLE'] == 1),'Police',inplace=True)"
   ]
  },
  {
   "cell_type": "markdown",
   "metadata": {},
   "source": [
    "### Giving discount to customers who are loyal and under stress due to covid 19"
   ]
  },
  {
   "cell_type": "code",
   "execution_count": 57,
   "metadata": {},
   "outputs": [],
   "source": [
    "# where function\n",
    "Final_df['ELIGIBLE_FOR_DISCOUNT'] = np.where((Final_df['TENURE'] > 60) & (Final_df['EMPLOYMENT_STATUS'] == 'N') & (Final_df['NO_OF_FAMILY_MEMBERS'] >= 4), 1, 0)"
   ]
  },
  {
   "cell_type": "code",
   "execution_count": 58,
   "metadata": {},
   "outputs": [
    {
     "data": {
      "text/plain": [
       "0    9701\n",
       "1     299\n",
       "Name: ELIGIBLE_FOR_DISCOUNT, dtype: int64"
      ]
     },
     "execution_count": 58,
     "metadata": {},
     "output_type": "execute_result"
    }
   ],
   "source": [
    "Final_df['ELIGIBLE_FOR_DISCOUNT'].value_counts()"
   ]
  },
  {
   "cell_type": "markdown",
   "metadata": {},
   "source": [
    "### Top 5 agents who have approved high claim amounts"
   ]
  },
  {
   "cell_type": "code",
   "execution_count": 59,
   "metadata": {},
   "outputs": [],
   "source": [
    "Total_by_agent = Final_df.loc[Final_df['CLAIM_STATUS'] == 'A'].groupby(['AGENT_ID','AGENT_NAME']).sum()"
   ]
  },
  {
   "cell_type": "code",
   "execution_count": 60,
   "metadata": {},
   "outputs": [
    {
     "data": {
      "text/html": [
       "<div>\n",
       "<style scoped>\n",
       "    .dataframe tbody tr th:only-of-type {\n",
       "        vertical-align: middle;\n",
       "    }\n",
       "\n",
       "    .dataframe tbody tr th {\n",
       "        vertical-align: top;\n",
       "    }\n",
       "\n",
       "    .dataframe thead th {\n",
       "        text-align: right;\n",
       "    }\n",
       "</style>\n",
       "<table border=\"1\" class=\"dataframe\">\n",
       "  <thead>\n",
       "    <tr style=\"text-align: right;\">\n",
       "      <th></th>\n",
       "      <th></th>\n",
       "      <th>CLAIM_AMOUNT</th>\n",
       "    </tr>\n",
       "    <tr>\n",
       "      <th>AGENT_ID</th>\n",
       "      <th>AGENT_NAME</th>\n",
       "      <th></th>\n",
       "    </tr>\n",
       "  </thead>\n",
       "  <tbody>\n",
       "    <tr>\n",
       "      <th>AGENT00679</th>\n",
       "      <th>Clara Barnett</th>\n",
       "      <td>489000</td>\n",
       "    </tr>\n",
       "    <tr>\n",
       "      <th>AGENT00771</th>\n",
       "      <th>Roger Burns</th>\n",
       "      <td>422100</td>\n",
       "    </tr>\n",
       "    <tr>\n",
       "      <th>AGENT00807</th>\n",
       "      <th>Don Filkins</th>\n",
       "      <td>396800</td>\n",
       "    </tr>\n",
       "    <tr>\n",
       "      <th>AGENT00789</th>\n",
       "      <th>Alison Baron</th>\n",
       "      <td>392900</td>\n",
       "    </tr>\n",
       "    <tr>\n",
       "      <th>AGENT00525</th>\n",
       "      <th>Don Ritchie</th>\n",
       "      <td>385900</td>\n",
       "    </tr>\n",
       "  </tbody>\n",
       "</table>\n",
       "</div>"
      ],
      "text/plain": [
       "                          CLAIM_AMOUNT\n",
       "AGENT_ID   AGENT_NAME                 \n",
       "AGENT00679 Clara Barnett        489000\n",
       "AGENT00771 Roger Burns          422100\n",
       "AGENT00807 Don Filkins          396800\n",
       "AGENT00789 Alison Baron         392900\n",
       "AGENT00525 Don Ritchie          385900"
      ]
     },
     "execution_count": 60,
     "metadata": {},
     "output_type": "execute_result"
    }
   ],
   "source": [
    "Total_by_agent.loc[:,['CLAIM_AMOUNT']].sort_values('CLAIM_AMOUNT', ascending = False)[0:5]"
   ]
  },
  {
   "cell_type": "markdown",
   "metadata": {},
   "source": [
    "### Analyzing  Agents performance by number of insurance claims worked by them"
   ]
  },
  {
   "cell_type": "code",
   "execution_count": 61,
   "metadata": {},
   "outputs": [],
   "source": [
    "Count_by_agent = Final_df.groupby(['AGENT_ID','AGENT_NAME']).count().rename(columns={'INSURANCE_TYPE':\"Insurance_Claims_count\"}) "
   ]
  },
  {
   "cell_type": "markdown",
   "metadata": {},
   "source": [
    "### High performing agents i.e employees who are in the top 1 percentlie based on number of claims worked by them "
   ]
  },
  {
   "cell_type": "code",
   "execution_count": 62,
   "metadata": {},
   "outputs": [
    {
     "data": {
      "text/plain": [
       "15.0"
      ]
     },
     "execution_count": 62,
     "metadata": {},
     "output_type": "execute_result"
    }
   ],
   "source": [
    "max_thresold = Count_by_agent.loc[:,['Insurance_Claims_count']].quantile([0.99]).reset_index()['Insurance_Claims_count'][0]\n",
    "max_thresold"
   ]
  },
  {
   "cell_type": "code",
   "execution_count": 63,
   "metadata": {},
   "outputs": [
    {
     "data": {
      "text/html": [
       "<div>\n",
       "<style scoped>\n",
       "    .dataframe tbody tr th:only-of-type {\n",
       "        vertical-align: middle;\n",
       "    }\n",
       "\n",
       "    .dataframe tbody tr th {\n",
       "        vertical-align: top;\n",
       "    }\n",
       "\n",
       "    .dataframe thead th {\n",
       "        text-align: right;\n",
       "    }\n",
       "</style>\n",
       "<table border=\"1\" class=\"dataframe\">\n",
       "  <thead>\n",
       "    <tr style=\"text-align: right;\">\n",
       "      <th></th>\n",
       "      <th></th>\n",
       "      <th>Insurance_Claims_count</th>\n",
       "    </tr>\n",
       "    <tr>\n",
       "      <th>AGENT_ID</th>\n",
       "      <th>AGENT_NAME</th>\n",
       "      <th></th>\n",
       "    </tr>\n",
       "  </thead>\n",
       "  <tbody>\n",
       "    <tr>\n",
       "      <th>AGENT00319</th>\n",
       "      <th>Frances Kimble</th>\n",
       "      <td>18</td>\n",
       "    </tr>\n",
       "    <tr>\n",
       "      <th>AGENT00388</th>\n",
       "      <th>Larry Scott</th>\n",
       "      <td>17</td>\n",
       "    </tr>\n",
       "    <tr>\n",
       "      <th>AGENT00723</th>\n",
       "      <th>Thomas Phariss</th>\n",
       "      <td>16</td>\n",
       "    </tr>\n",
       "    <tr>\n",
       "      <th>AGENT00849</th>\n",
       "      <th>Debbra Collins</th>\n",
       "      <td>17</td>\n",
       "    </tr>\n",
       "    <tr>\n",
       "      <th>AGENT00992</th>\n",
       "      <th>James Velasco</th>\n",
       "      <td>19</td>\n",
       "    </tr>\n",
       "    <tr>\n",
       "      <th>AGENT01097</th>\n",
       "      <th>Barbara Miller</th>\n",
       "      <td>16</td>\n",
       "    </tr>\n",
       "    <tr>\n",
       "      <th>AGENT01106</th>\n",
       "      <th>Isaac Willard</th>\n",
       "      <td>16</td>\n",
       "    </tr>\n",
       "  </tbody>\n",
       "</table>\n",
       "</div>"
      ],
      "text/plain": [
       "                           Insurance_Claims_count\n",
       "AGENT_ID   AGENT_NAME                            \n",
       "AGENT00319 Frances Kimble                      18\n",
       "AGENT00388 Larry Scott                         17\n",
       "AGENT00723 Thomas Phariss                      16\n",
       "AGENT00849 Debbra Collins                      17\n",
       "AGENT00992 James Velasco                       19\n",
       "AGENT01097 Barbara Miller                      16\n",
       "AGENT01106 Isaac Willard                       16"
      ]
     },
     "execution_count": 63,
     "metadata": {},
     "output_type": "execute_result"
    }
   ],
   "source": [
    "#Below we have the result set for all high performing agents i.e employees who are in the top 1 percentile \n",
    "#based on number of claims worked by them\n",
    "Count_by_agent.loc[:,['Insurance_Claims_count']].loc[Count_by_agent['Insurance_Claims_count'] > max_thresold]"
   ]
  },
  {
   "cell_type": "markdown",
   "metadata": {},
   "source": [
    "### Low performing agents i.e employees who are in the bottom 1 percentlie based on number of claims worked by them "
   ]
  },
  {
   "cell_type": "code",
   "execution_count": 64,
   "metadata": {},
   "outputs": [
    {
     "data": {
      "text/plain": [
       "3.0"
      ]
     },
     "execution_count": 64,
     "metadata": {},
     "output_type": "execute_result"
    }
   ],
   "source": [
    "min_thresold = Count_by_agent.loc[:,['Insurance_Claims_count']].quantile([0.01]).reset_index()['Insurance_Claims_count'][0]\n",
    "min_thresold"
   ]
  },
  {
   "cell_type": "code",
   "execution_count": 65,
   "metadata": {},
   "outputs": [
    {
     "data": {
      "text/html": [
       "<div>\n",
       "<style scoped>\n",
       "    .dataframe tbody tr th:only-of-type {\n",
       "        vertical-align: middle;\n",
       "    }\n",
       "\n",
       "    .dataframe tbody tr th {\n",
       "        vertical-align: top;\n",
       "    }\n",
       "\n",
       "    .dataframe thead th {\n",
       "        text-align: right;\n",
       "    }\n",
       "</style>\n",
       "<table border=\"1\" class=\"dataframe\">\n",
       "  <thead>\n",
       "    <tr style=\"text-align: right;\">\n",
       "      <th></th>\n",
       "      <th></th>\n",
       "      <th>Insurance_Claims_count</th>\n",
       "    </tr>\n",
       "    <tr>\n",
       "      <th>AGENT_ID</th>\n",
       "      <th>AGENT_NAME</th>\n",
       "      <th></th>\n",
       "    </tr>\n",
       "  </thead>\n",
       "  <tbody>\n",
       "    <tr>\n",
       "      <th>AGENT00156</th>\n",
       "      <th>Mary Lane</th>\n",
       "      <td>2</td>\n",
       "    </tr>\n",
       "    <tr>\n",
       "      <th>AGENT00252</th>\n",
       "      <th>Harold Bonn</th>\n",
       "      <td>1</td>\n",
       "    </tr>\n",
       "    <tr>\n",
       "      <th>AGENT00536</th>\n",
       "      <th>Florence Ashlock</th>\n",
       "      <td>2</td>\n",
       "    </tr>\n",
       "    <tr>\n",
       "      <th>AGENT00621</th>\n",
       "      <th>Richard Murphy</th>\n",
       "      <td>2</td>\n",
       "    </tr>\n",
       "    <tr>\n",
       "      <th>AGENT00628</th>\n",
       "      <th>Marsha Kingsley</th>\n",
       "      <td>2</td>\n",
       "    </tr>\n",
       "    <tr>\n",
       "      <th>AGENT00790</th>\n",
       "      <th>Clay Harmon</th>\n",
       "      <td>2</td>\n",
       "    </tr>\n",
       "    <tr>\n",
       "      <th>AGENT01077</th>\n",
       "      <th>Sandra Tucker</th>\n",
       "      <td>2</td>\n",
       "    </tr>\n",
       "    <tr>\n",
       "      <th>AGENT01154</th>\n",
       "      <th>Nichole Wright</th>\n",
       "      <td>2</td>\n",
       "    </tr>\n",
       "    <tr>\n",
       "      <th>AGENT01161</th>\n",
       "      <th>Charlotte Payne</th>\n",
       "      <td>1</td>\n",
       "    </tr>\n",
       "  </tbody>\n",
       "</table>\n",
       "</div>"
      ],
      "text/plain": [
       "                             Insurance_Claims_count\n",
       "AGENT_ID   AGENT_NAME                              \n",
       "AGENT00156 Mary Lane                              2\n",
       "AGENT00252 Harold Bonn                            1\n",
       "AGENT00536 Florence Ashlock                       2\n",
       "AGENT00621 Richard Murphy                         2\n",
       "AGENT00628 Marsha Kingsley                        2\n",
       "AGENT00790 Clay Harmon                            2\n",
       "AGENT01077 Sandra Tucker                          2\n",
       "AGENT01154 Nichole Wright                         2\n",
       "AGENT01161 Charlotte Payne                        1"
      ]
     },
     "execution_count": 65,
     "metadata": {},
     "output_type": "execute_result"
    }
   ],
   "source": [
    "# Below we have the result set for all low performing agents i.e employees who are in the bottom 1 percentile \n",
    "#based on number of claims worked by them\n",
    "Count_by_agent.loc[:,['Insurance_Claims_count']].loc[Count_by_agent['Insurance_Claims_count'] < min_thresold]"
   ]
  },
  {
   "cell_type": "markdown",
   "metadata": {},
   "source": [
    "### Mobile and Travel Insurance premium are discounted by 10%"
   ]
  },
  {
   "cell_type": "code",
   "execution_count": 66,
   "metadata": {},
   "outputs": [],
   "source": [
    "Final_df['PREMIUM_AMOUNT'].mask((Final_df['INSURANCE_TYPE'] == 'Mobile') | (Final_df['INSURANCE_TYPE'] == 'Travel'),(Final_df['PREMIUM_AMOUNT']-Final_df['PREMIUM_AMOUNT']*0.1),inplace=True)"
   ]
  },
  {
   "cell_type": "markdown",
   "metadata": {},
   "source": [
    "### Health and Property Insurance premium are increased by 7%"
   ]
  },
  {
   "cell_type": "code",
   "execution_count": 67,
   "metadata": {},
   "outputs": [],
   "source": [
    "Final_df['PREMIUM_AMOUNT'].mask((Final_df['INSURANCE_TYPE'] == 'Health') | (Final_df['INSURANCE_TYPE'] == 'Property'),(Final_df['PREMIUM_AMOUNT']+Final_df['PREMIUM_AMOUNT']*0.07),inplace=True)"
   ]
  },
  {
   "cell_type": "markdown",
   "metadata": {},
   "source": [
    "### Life and Motor Insurance premium are marginally increased by 2% "
   ]
  },
  {
   "cell_type": "code",
   "execution_count": 68,
   "metadata": {},
   "outputs": [],
   "source": [
    "Final_df['PREMIUM_AMOUNT'].mask((Final_df['INSURANCE_TYPE'] == 'Motor') | (Final_df['INSURANCE_TYPE'] == 'Life'),(Final_df['PREMIUM_AMOUNT']+Final_df['PREMIUM_AMOUNT']*0.02),inplace=True)"
   ]
  },
  {
   "cell_type": "code",
   "execution_count": null,
   "metadata": {},
   "outputs": [],
   "source": []
  },
  {
   "cell_type": "code",
   "execution_count": 69,
   "metadata": {},
   "outputs": [
    {
     "data": {
      "text/plain": [
       "[Text(0.5, 1.0, 'INSURANCE_TYPE VS PREMIUM_AMOUNT')]"
      ]
     },
     "execution_count": 69,
     "metadata": {},
     "output_type": "execute_result"
    },
    {
     "data": {
      "image/png": "[encoded data removed]",
      "text/plain": [
       "<Figure size 864x432 with 1 Axes>"
      ]
     },
     "metadata": {
      "needs_background": "light"
     },
     "output_type": "display_data"
    }
   ],
   "source": [
    "plt.figure(figsize=(12,6))\n",
    "sns.boxplot(y=Final_df['PREMIUM_AMOUNT'],x=Final_df['INSURANCE_TYPE'],palette=\"PuBu\",orient='v').set(title='INSURANCE_TYPE VS PREMIUM_AMOUNT' )"
   ]
  },
  {
   "cell_type": "code",
   "execution_count": 70,
   "metadata": {},
   "outputs": [],
   "source": [
    "#The premium amount for different insurance types varies significantly\n",
    "#The premium amount for mobile insurance is distributed over a small range\n",
    "#The premium amount for health insurance is distributed over a wider range compared to all the other insurance types\n",
    "#The median premium amount for all the insurance types differs significantly "
   ]
  },
  {
   "cell_type": "code",
   "execution_count": null,
   "metadata": {},
   "outputs": [],
   "source": []
  },
  {
   "cell_type": "code",
   "execution_count": 71,
   "metadata": {},
   "outputs": [
    {
     "data": {
      "text/plain": [
       "[Text(0.5, 1.0, 'INSURANCE_TYPE VS CLAIM_AMOUNT')]"
      ]
     },
     "execution_count": 71,
     "metadata": {},
     "output_type": "execute_result"
    },
    {
     "data": {
      "image/png": "[encoded data removed]",
      "text/plain": [
       "<Figure size 864x432 with 1 Axes>"
      ]
     },
     "metadata": {
      "needs_background": "light"
     },
     "output_type": "display_data"
    }
   ],
   "source": [
    "plt.figure(figsize=(12,6))\n",
    "sns.boxplot(y=Final_df['CLAIM_AMOUNT'],x=Final_df['INSURANCE_TYPE'],palette=\"PuBu\",orient='v').set(title='INSURANCE_TYPE VS CLAIM_AMOUNT' )"
   ]
  },
  {
   "cell_type": "code",
   "execution_count": 72,
   "metadata": {},
   "outputs": [],
   "source": [
    "#The claim amount for different insurance types varies significantly\n",
    "#The claim amount for mobile and travel insurance is distributed over a small range\n",
    "#The claim amount for Life insurance is distributed over a wider range compared to all the other insurance types\n",
    "#The median claim amount for all the insurance types differs significantly "
   ]
  },
  {
   "cell_type": "code",
   "execution_count": 73,
   "metadata": {},
   "outputs": [
    {
     "data": {
      "text/plain": [
       "[Text(0.5, 1.0, 'INSURANCE_TYPE VS AGE')]"
      ]
     },
     "execution_count": 73,
     "metadata": {},
     "output_type": "execute_result"
    },
    {
     "data": {
      "image/png": "[encoded data removed]",
      "text/plain": [
       "<Figure size 864x432 with 1 Axes>"
      ]
     },
     "metadata": {
      "needs_background": "light"
     },
     "output_type": "display_data"
    }
   ],
   "source": [
    "plt.figure(figsize=(12,6))\n",
    "sns.boxplot(y=Final_df['AGE'],x=Final_df['INSURANCE_TYPE'],palette=\"PuBu\",orient='v').set(title='INSURANCE_TYPE VS AGE' )\n",
    "#Age across various insurance types is almost same"
   ]
  },
  {
   "cell_type": "code",
   "execution_count": 74,
   "metadata": {},
   "outputs": [
    {
     "data": {
      "text/plain": [
       "Y    9171\n",
       "N     829\n",
       "Name: EMPLOYMENT_STATUS, dtype: int64"
      ]
     },
     "execution_count": 74,
     "metadata": {},
     "output_type": "execute_result"
    }
   ],
   "source": [
    "Final_df['EMPLOYMENT_STATUS'].value_counts()"
   ]
  },
  {
   "cell_type": "code",
   "execution_count": 75,
   "metadata": {},
   "outputs": [
    {
     "data": {
      "text/plain": [
       "2    1690\n",
       "3    1683\n",
       "7    1674\n",
       "4    1667\n",
       "5    1647\n",
       "6    1639\n",
       "Name: NO_OF_FAMILY_MEMBERS, dtype: int64"
      ]
     },
     "execution_count": 75,
     "metadata": {},
     "output_type": "execute_result"
    }
   ],
   "source": [
    "Final_df['NO_OF_FAMILY_MEMBERS'].value_counts()"
   ]
  },
  {
   "cell_type": "code",
   "execution_count": 76,
   "metadata": {},
   "outputs": [
    {
     "data": {
      "text/plain": [
       "[Text(0.5, 1.0, 'INSURANCE_TYPE VS NO_OF_FAMILY_MEMBERS')]"
      ]
     },
     "execution_count": 76,
     "metadata": {},
     "output_type": "execute_result"
    },
    {
     "data": {
      "image/png": "[encoded data removed]",
      "text/plain": [
       "<Figure size 864x432 with 1 Axes>"
      ]
     },
     "metadata": {
      "needs_background": "light"
     },
     "output_type": "display_data"
    }
   ],
   "source": [
    "plt.figure(figsize=(12,6))\n",
    "sns.boxplot(y=Final_df['NO_OF_FAMILY_MEMBERS'],x=Final_df['INSURANCE_TYPE'],palette=\"PuBu\",orient='v').set(title='INSURANCE_TYPE VS NO_OF_FAMILY_MEMBERS')\n",
    "# Median number of family members of life insurance policy holders higher than other insurance types"
   ]
  },
  {
   "cell_type": "code",
   "execution_count": 77,
   "metadata": {},
   "outputs": [
    {
     "data": {
      "text/plain": [
       "[Text(0.5, 1.0, 'RISK_SEGMENTATION VS PREMIUM_AMOUNT')]"
      ]
     },
     "execution_count": 77,
     "metadata": {},
     "output_type": "execute_result"
    },
    {
     "data": {
      "image/png": "[encoded data removed]",
      "text/plain": [
       "<Figure size 864x432 with 1 Axes>"
      ]
     },
     "metadata": {
      "needs_background": "light"
     },
     "output_type": "display_data"
    }
   ],
   "source": [
    "plt.figure(figsize=(12,6))\n",
    "sns.boxplot(y=Final_df['PREMIUM_AMOUNT'],x=Final_df['RISK_SEGMENTATION'],palette=\"PuBu\",orient='v').set(title='RISK_SEGMENTATION VS PREMIUM_AMOUNT')\n",
    "#The distribution of premium amount across risk segmentation is almost same"
   ]
  },
  {
   "cell_type": "code",
   "execution_count": 78,
   "metadata": {},
   "outputs": [
    {
     "data": {
      "text/plain": [
       "[Text(0.5, 1.0, 'RISK_SEGMENTATION VS CLAIM_AMOUNT')]"
      ]
     },
     "execution_count": 78,
     "metadata": {},
     "output_type": "execute_result"
    },
    {
     "data": {
      "image/png": "[encoded data removed]",
      "text/plain": [
       "<Figure size 864x432 with 1 Axes>"
      ]
     },
     "metadata": {
      "needs_background": "light"
     },
     "output_type": "display_data"
    }
   ],
   "source": [
    "plt.figure(figsize=(12,6))\n",
    "sns.boxplot(y=Final_df['CLAIM_AMOUNT'],x=Final_df['RISK_SEGMENTATION'],palette=\"PuBu\",orient='v').set(title='RISK_SEGMENTATION VS CLAIM_AMOUNT')\n",
    "#We have a lot of outliers present in each risk segmentation"
   ]
  },
  {
   "cell_type": "code",
   "execution_count": 79,
   "metadata": {},
   "outputs": [
    {
     "data": {
      "text/plain": [
       "[Text(0.5, 1.0, 'RISK_SEGMENTATION VS AGE')]"
      ]
     },
     "execution_count": 79,
     "metadata": {},
     "output_type": "execute_result"
    },
    {
     "data": {
      "image/png": "[encoded data removed]",
      "text/plain": [
       "<Figure size 864x432 with 1 Axes>"
      ]
     },
     "metadata": {
      "needs_background": "light"
     },
     "output_type": "display_data"
    }
   ],
   "source": [
    "plt.figure(figsize=(12,6))\n",
    "sns.boxplot(y=Final_df['AGE'],x=Final_df['RISK_SEGMENTATION'],palette=\"PuBu\",orient='v').set(title='RISK_SEGMENTATION VS AGE')\n",
    "#Age across risk types is almost same"
   ]
  },
  {
   "cell_type": "code",
   "execution_count": 80,
   "metadata": {},
   "outputs": [
    {
     "data": {
      "text/plain": [
       "[Text(0.5, 1.0, 'RISK_SEGMENTATION VS NO_OF_FAMILY_MEMBERS')]"
      ]
     },
     "execution_count": 80,
     "metadata": {},
     "output_type": "execute_result"
    },
    {
     "data": {
      "image/png": "[encoded data removed]",
      "text/plain": [
       "<Figure size 864x432 with 1 Axes>"
      ]
     },
     "metadata": {
      "needs_background": "light"
     },
     "output_type": "display_data"
    }
   ],
   "source": [
    "plt.figure(figsize=(12,6))\n",
    "sns.boxplot(y=Final_df['NO_OF_FAMILY_MEMBERS'],x=Final_df['RISK_SEGMENTATION'],palette=\"PuBu\",orient='v').set(title='RISK_SEGMENTATION VS NO_OF_FAMILY_MEMBERS')\n",
    "# Median number of family members of high risk segments insurance policy holders higher than other risk types"
   ]
  },
  {
   "cell_type": "code",
   "execution_count": 81,
   "metadata": {},
   "outputs": [
    {
     "data": {
      "text/plain": [
       "[Text(0.5, 1.0, 'EMPLOYMENT_STATUS VS PREMIUM_AMOUNT')]"
      ]
     },
     "execution_count": 81,
     "metadata": {},
     "output_type": "execute_result"
    },
    {
     "data": {
      "image/png": "[encoded data removed]",
      "text/plain": [
       "<Figure size 864x432 with 1 Axes>"
      ]
     },
     "metadata": {
      "needs_background": "light"
     },
     "output_type": "display_data"
    }
   ],
   "source": [
    "plt.figure(figsize=(12,6))\n",
    "sns.boxplot(y=Final_df['PREMIUM_AMOUNT'],x=Final_df['EMPLOYMENT_STATUS'],palette=\"PuBu\",orient='v').set(title='EMPLOYMENT_STATUS VS PREMIUM_AMOUNT')"
   ]
  },
  {
   "cell_type": "code",
   "execution_count": 82,
   "metadata": {},
   "outputs": [
    {
     "data": {
      "text/plain": [
       "[Text(0.5, 1.0, 'EMPLOYMENT_STATUS VS CLAIM_AMOUNT')]"
      ]
     },
     "execution_count": 82,
     "metadata": {},
     "output_type": "execute_result"
    },
    {
     "data": {
      "image/png": "[encoded data removed]",
      "text/plain": [
       "<Figure size 864x432 with 1 Axes>"
      ]
     },
     "metadata": {
      "needs_background": "light"
     },
     "output_type": "display_data"
    }
   ],
   "source": [
    "plt.figure(figsize=(12,6))\n",
    "sns.boxplot(y=Final_df['CLAIM_AMOUNT'],x=Final_df['EMPLOYMENT_STATUS'],palette=\"PuBu\",orient='v').set(title='EMPLOYMENT_STATUS VS CLAIM_AMOUNT' )"
   ]
  },
  {
   "cell_type": "code",
   "execution_count": 83,
   "metadata": {},
   "outputs": [
    {
     "data": {
      "text/plain": [
       "[Text(0.5, 1.0, 'AUTHORITY_CONTACTED Vs CLAIM_STATUS')]"
      ]
     },
     "execution_count": 83,
     "metadata": {},
     "output_type": "execute_result"
    },
    {
     "data": {
      "image/png": "[encoded data removed]",
      "text/plain": [
       "<Figure size 864x432 with 1 Axes>"
      ]
     },
     "metadata": {
      "needs_background": "light"
     },
     "output_type": "display_data"
    }
   ],
   "source": [
    "plt.figure(figsize=(12,6))\n",
    "ax=sns.countplot(x='AUTHORITY_CONTACTED',hue='CLAIM_STATUS',data=Final_df)\n",
    "ax.set(title=\"AUTHORITY_CONTACTED Vs CLAIM_STATUS\")"
   ]
  },
  {
   "cell_type": "code",
   "execution_count": 84,
   "metadata": {},
   "outputs": [
    {
     "data": {
      "text/plain": [
       "[Text(0.5, 1.0, 'POLICE_REPORT_AVAILABLE Vs CLAIM_STATUS')]"
      ]
     },
     "execution_count": 84,
     "metadata": {},
     "output_type": "execute_result"
    },
    {
     "data": {
      "image/png": "[encoded data removed]",
      "text/plain": [
       "<Figure size 864x432 with 1 Axes>"
      ]
     },
     "metadata": {
      "needs_background": "light"
     },
     "output_type": "display_data"
    }
   ],
   "source": [
    "plt.figure(figsize=(12,6))\n",
    "ax=sns.countplot(x='POLICE_REPORT_AVAILABLE',hue='CLAIM_STATUS',data=Final_df)\n",
    "ax.set(title='POLICE_REPORT_AVAILABLE Vs CLAIM_STATUS')"
   ]
  },
  {
   "cell_type": "code",
   "execution_count": 85,
   "metadata": {},
   "outputs": [
    {
     "data": {
      "text/plain": [
       "[Text(0.5, 1.0, 'STATE VS PREMIUM_AMOUNT')]"
      ]
     },
     "execution_count": 85,
     "metadata": {},
     "output_type": "execute_result"
    },
    {
     "data": {
      "image/png": "[encoded data removed]",
      "text/plain": [
       "<Figure size 864x432 with 1 Axes>"
      ]
     },
     "metadata": {
      "needs_background": "light"
     },
     "output_type": "display_data"
    }
   ],
   "source": [
    "plt.figure(figsize=(12,6))\n",
    "sns.boxplot(y=Final_df['PREMIUM_AMOUNT'],x=Final_df['STATE_y'],palette=\"PuBu\",orient='v').set(title='STATE VS PREMIUM_AMOUNT')\n",
    "#The distribution of premium amount across all the states is almost the same"
   ]
  },
  {
   "cell_type": "code",
   "execution_count": 86,
   "metadata": {},
   "outputs": [
    {
     "data": {
      "text/html": [
       "<div>\n",
       "<style scoped>\n",
       "    .dataframe tbody tr th:only-of-type {\n",
       "        vertical-align: middle;\n",
       "    }\n",
       "\n",
       "    .dataframe tbody tr th {\n",
       "        vertical-align: top;\n",
       "    }\n",
       "\n",
       "    .dataframe thead tr th {\n",
       "        text-align: left;\n",
       "    }\n",
       "\n",
       "    .dataframe thead tr:last-of-type th {\n",
       "        text-align: right;\n",
       "    }\n",
       "</style>\n",
       "<table border=\"1\" class=\"dataframe\">\n",
       "  <thead>\n",
       "    <tr>\n",
       "      <th></th>\n",
       "      <th colspan=\"4\" halign=\"left\">PREMIUM_AMOUNT</th>\n",
       "    </tr>\n",
       "    <tr>\n",
       "      <th></th>\n",
       "      <th>mean</th>\n",
       "      <th>amax</th>\n",
       "      <th>amin</th>\n",
       "      <th>median</th>\n",
       "    </tr>\n",
       "    <tr>\n",
       "      <th>INSURANCE_TYPE</th>\n",
       "      <th></th>\n",
       "      <th></th>\n",
       "      <th></th>\n",
       "      <th></th>\n",
       "    </tr>\n",
       "  </thead>\n",
       "  <tbody>\n",
       "    <tr>\n",
       "      <th>Health</th>\n",
       "      <td>159.838835</td>\n",
       "      <td>214.0000</td>\n",
       "      <td>107.0214</td>\n",
       "      <td>160.20040</td>\n",
       "    </tr>\n",
       "    <tr>\n",
       "      <th>Life</th>\n",
       "      <td>76.179337</td>\n",
       "      <td>101.9694</td>\n",
       "      <td>51.0510</td>\n",
       "      <td>76.15320</td>\n",
       "    </tr>\n",
       "    <tr>\n",
       "      <th>Mobile</th>\n",
       "      <td>8.080543</td>\n",
       "      <td>10.7910</td>\n",
       "      <td>5.4000</td>\n",
       "      <td>8.09100</td>\n",
       "    </tr>\n",
       "    <tr>\n",
       "      <th>Motor</th>\n",
       "      <td>107.179047</td>\n",
       "      <td>142.7286</td>\n",
       "      <td>71.4510</td>\n",
       "      <td>107.03880</td>\n",
       "    </tr>\n",
       "    <tr>\n",
       "      <th>Property</th>\n",
       "      <td>127.923072</td>\n",
       "      <td>171.1893</td>\n",
       "      <td>85.6535</td>\n",
       "      <td>128.36255</td>\n",
       "    </tr>\n",
       "    <tr>\n",
       "      <th>Travel</th>\n",
       "      <td>66.901672</td>\n",
       "      <td>89.9010</td>\n",
       "      <td>45.0810</td>\n",
       "      <td>66.94650</td>\n",
       "    </tr>\n",
       "  </tbody>\n",
       "</table>\n",
       "</div>"
      ],
      "text/plain": [
       "               PREMIUM_AMOUNT                               \n",
       "                         mean      amax      amin     median\n",
       "INSURANCE_TYPE                                              \n",
       "Health             159.838835  214.0000  107.0214  160.20040\n",
       "Life                76.179337  101.9694   51.0510   76.15320\n",
       "Mobile               8.080543   10.7910    5.4000    8.09100\n",
       "Motor              107.179047  142.7286   71.4510  107.03880\n",
       "Property           127.923072  171.1893   85.6535  128.36255\n",
       "Travel              66.901672   89.9010   45.0810   66.94650"
      ]
     },
     "execution_count": 86,
     "metadata": {},
     "output_type": "execute_result"
    }
   ],
   "source": [
    "Agg_IT_PA=Final_df.loc[:,['INSURANCE_TYPE','PREMIUM_AMOUNT']].groupby(['INSURANCE_TYPE']).agg([np.mean,np.max,np.min,np.median])\n",
    "Agg_IT_PA"
   ]
  },
  {
   "cell_type": "code",
   "execution_count": 87,
   "metadata": {},
   "outputs": [
    {
     "data": {
      "image/png": "[encoded data removed]",
      "text/plain": [
       "<Figure size 1008x504 with 1 Axes>"
      ]
     },
     "metadata": {
      "needs_background": "light"
     },
     "output_type": "display_data"
    }
   ],
   "source": [
    "Agg_IT_PA.plot(kind ='bar', figsize=(14,7),colormap=\"mako\")\n",
    "plt.xlabel('INSURANCE_TYPE')\n",
    "plt.ylabel('Amount')\n",
    "plt.title('Premium amount across insurance types')\n",
    "plt.show()"
   ]
  },
  {
   "cell_type": "code",
   "execution_count": 88,
   "metadata": {},
   "outputs": [
    {
     "data": {
      "text/html": [
       "<div>\n",
       "<style scoped>\n",
       "    .dataframe tbody tr th:only-of-type {\n",
       "        vertical-align: middle;\n",
       "    }\n",
       "\n",
       "    .dataframe tbody tr th {\n",
       "        vertical-align: top;\n",
       "    }\n",
       "\n",
       "    .dataframe thead tr th {\n",
       "        text-align: left;\n",
       "    }\n",
       "\n",
       "    .dataframe thead tr:last-of-type th {\n",
       "        text-align: right;\n",
       "    }\n",
       "</style>\n",
       "<table border=\"1\" class=\"dataframe\">\n",
       "  <thead>\n",
       "    <tr>\n",
       "      <th></th>\n",
       "      <th colspan=\"4\" halign=\"left\">CLAIM_AMOUNT</th>\n",
       "    </tr>\n",
       "    <tr>\n",
       "      <th></th>\n",
       "      <th>mean</th>\n",
       "      <th>amax</th>\n",
       "      <th>amin</th>\n",
       "      <th>median</th>\n",
       "    </tr>\n",
       "    <tr>\n",
       "      <th>INSURANCE_TYPE</th>\n",
       "      <th></th>\n",
       "      <th></th>\n",
       "      <th></th>\n",
       "      <th></th>\n",
       "    </tr>\n",
       "  </thead>\n",
       "  <tbody>\n",
       "    <tr>\n",
       "      <th>Health</th>\n",
       "      <td>10801.183432</td>\n",
       "      <td>20000</td>\n",
       "      <td>1000</td>\n",
       "      <td>11000.0</td>\n",
       "    </tr>\n",
       "    <tr>\n",
       "      <th>Life</th>\n",
       "      <td>54386.444709</td>\n",
       "      <td>100000</td>\n",
       "      <td>10000</td>\n",
       "      <td>54000.0</td>\n",
       "    </tr>\n",
       "    <tr>\n",
       "      <th>Mobile</th>\n",
       "      <td>406.796690</td>\n",
       "      <td>700</td>\n",
       "      <td>100</td>\n",
       "      <td>400.0</td>\n",
       "    </tr>\n",
       "    <tr>\n",
       "      <th>Motor</th>\n",
       "      <td>5503.811944</td>\n",
       "      <td>10000</td>\n",
       "      <td>1000</td>\n",
       "      <td>6000.0</td>\n",
       "    </tr>\n",
       "    <tr>\n",
       "      <th>Property</th>\n",
       "      <td>24573.877069</td>\n",
       "      <td>40000</td>\n",
       "      <td>10000</td>\n",
       "      <td>24000.0</td>\n",
       "    </tr>\n",
       "    <tr>\n",
       "      <th>Travel</th>\n",
       "      <td>2979.640719</td>\n",
       "      <td>5000</td>\n",
       "      <td>1000</td>\n",
       "      <td>3000.0</td>\n",
       "    </tr>\n",
       "  </tbody>\n",
       "</table>\n",
       "</div>"
      ],
      "text/plain": [
       "                CLAIM_AMOUNT                        \n",
       "                        mean    amax   amin   median\n",
       "INSURANCE_TYPE                                      \n",
       "Health          10801.183432   20000   1000  11000.0\n",
       "Life            54386.444709  100000  10000  54000.0\n",
       "Mobile            406.796690     700    100    400.0\n",
       "Motor            5503.811944   10000   1000   6000.0\n",
       "Property        24573.877069   40000  10000  24000.0\n",
       "Travel           2979.640719    5000   1000   3000.0"
      ]
     },
     "execution_count": 88,
     "metadata": {},
     "output_type": "execute_result"
    }
   ],
   "source": [
    "Agg_IT_CA=Final_df.loc[:,['INSURANCE_TYPE','CLAIM_AMOUNT']].groupby(['INSURANCE_TYPE']).agg([np.mean,np.max,np.min,np.median])\n",
    "Agg_IT_CA"
   ]
  },
  {
   "cell_type": "code",
   "execution_count": 89,
   "metadata": {},
   "outputs": [
    {
     "data": {
      "image/png": "[encoded data removed]",
      "text/plain": [
       "<Figure size 1008x504 with 1 Axes>"
      ]
     },
     "metadata": {
      "needs_background": "light"
     },
     "output_type": "display_data"
    }
   ],
   "source": [
    "Agg_IT_CA.plot(kind ='bar', figsize=(14,7),colormap=\"mako\")\n",
    "plt.xlabel('INSURANCE_TYPE')\n",
    "plt.ylabel('Amount')\n",
    "plt.title('Claim amount across insurance types')\n",
    "plt.show()"
   ]
  },
  {
   "cell_type": "code",
   "execution_count": 90,
   "metadata": {},
   "outputs": [
    {
     "data": {
      "text/html": [
       "<div>\n",
       "<style scoped>\n",
       "    .dataframe tbody tr th:only-of-type {\n",
       "        vertical-align: middle;\n",
       "    }\n",
       "\n",
       "    .dataframe tbody tr th {\n",
       "        vertical-align: top;\n",
       "    }\n",
       "\n",
       "    .dataframe thead tr th {\n",
       "        text-align: left;\n",
       "    }\n",
       "\n",
       "    .dataframe thead tr:last-of-type th {\n",
       "        text-align: right;\n",
       "    }\n",
       "</style>\n",
       "<table border=\"1\" class=\"dataframe\">\n",
       "  <thead>\n",
       "    <tr>\n",
       "      <th></th>\n",
       "      <th colspan=\"4\" halign=\"left\">PREMIUM_AMOUNT</th>\n",
       "    </tr>\n",
       "    <tr>\n",
       "      <th></th>\n",
       "      <th>mean</th>\n",
       "      <th>amax</th>\n",
       "      <th>amin</th>\n",
       "      <th>median</th>\n",
       "    </tr>\n",
       "    <tr>\n",
       "      <th>RISK_SEGMENTATION</th>\n",
       "      <th></th>\n",
       "      <th></th>\n",
       "      <th></th>\n",
       "      <th></th>\n",
       "    </tr>\n",
       "  </thead>\n",
       "  <tbody>\n",
       "    <tr>\n",
       "      <th>H</th>\n",
       "      <td>90.628316</td>\n",
       "      <td>213.4864</td>\n",
       "      <td>5.400</td>\n",
       "      <td>88.3350</td>\n",
       "    </tr>\n",
       "    <tr>\n",
       "      <th>L</th>\n",
       "      <td>91.504524</td>\n",
       "      <td>214.0000</td>\n",
       "      <td>5.409</td>\n",
       "      <td>88.3713</td>\n",
       "    </tr>\n",
       "    <tr>\n",
       "      <th>M</th>\n",
       "      <td>90.308053</td>\n",
       "      <td>213.9144</td>\n",
       "      <td>5.409</td>\n",
       "      <td>87.9801</td>\n",
       "    </tr>\n",
       "  </tbody>\n",
       "</table>\n",
       "</div>"
      ],
      "text/plain": [
       "                  PREMIUM_AMOUNT                          \n",
       "                            mean      amax   amin   median\n",
       "RISK_SEGMENTATION                                         \n",
       "H                      90.628316  213.4864  5.400  88.3350\n",
       "L                      91.504524  214.0000  5.409  88.3713\n",
       "M                      90.308053  213.9144  5.409  87.9801"
      ]
     },
     "execution_count": 90,
     "metadata": {},
     "output_type": "execute_result"
    }
   ],
   "source": [
    "Agg_RS_PA=Final_df.loc[:,['RISK_SEGMENTATION','PREMIUM_AMOUNT']].groupby(['RISK_SEGMENTATION']).agg([np.mean,np.max,np.min,np.median])\n",
    "Agg_RS_PA"
   ]
  },
  {
   "cell_type": "code",
   "execution_count": 91,
   "metadata": {},
   "outputs": [
    {
     "data": {
      "image/png": "[encoded data removed]",
      "text/plain": [
       "<Figure size 1296x576 with 1 Axes>"
      ]
     },
     "metadata": {
      "needs_background": "light"
     },
     "output_type": "display_data"
    }
   ],
   "source": [
    "Agg_RS_PA.plot(kind ='bar', figsize=(18,8),colormap=\"mako\")\n",
    "plt.xlabel('INSURANCE_TYPE')\n",
    "plt.ylabel('Amount')\n",
    "plt.title('Premium amount across risk segmentation')\n",
    "plt.show()"
   ]
  },
  {
   "cell_type": "code",
   "execution_count": 92,
   "metadata": {},
   "outputs": [
    {
     "data": {
      "text/html": [
       "<div>\n",
       "<style scoped>\n",
       "    .dataframe tbody tr th:only-of-type {\n",
       "        vertical-align: middle;\n",
       "    }\n",
       "\n",
       "    .dataframe tbody tr th {\n",
       "        vertical-align: top;\n",
       "    }\n",
       "\n",
       "    .dataframe thead tr th {\n",
       "        text-align: left;\n",
       "    }\n",
       "\n",
       "    .dataframe thead tr:last-of-type th {\n",
       "        text-align: right;\n",
       "    }\n",
       "</style>\n",
       "<table border=\"1\" class=\"dataframe\">\n",
       "  <thead>\n",
       "    <tr>\n",
       "      <th></th>\n",
       "      <th colspan=\"4\" halign=\"left\">CLAIM_AMOUNT</th>\n",
       "    </tr>\n",
       "    <tr>\n",
       "      <th></th>\n",
       "      <th>mean</th>\n",
       "      <th>amax</th>\n",
       "      <th>amin</th>\n",
       "      <th>median</th>\n",
       "    </tr>\n",
       "    <tr>\n",
       "      <th>RISK_SEGMENTATION</th>\n",
       "      <th></th>\n",
       "      <th></th>\n",
       "      <th></th>\n",
       "      <th></th>\n",
       "    </tr>\n",
       "  </thead>\n",
       "  <tbody>\n",
       "    <tr>\n",
       "      <th>H</th>\n",
       "      <td>16825.429553</td>\n",
       "      <td>100000</td>\n",
       "      <td>100</td>\n",
       "      <td>8000.0</td>\n",
       "    </tr>\n",
       "    <tr>\n",
       "      <th>L</th>\n",
       "      <td>16519.317406</td>\n",
       "      <td>100000</td>\n",
       "      <td>100</td>\n",
       "      <td>7000.0</td>\n",
       "    </tr>\n",
       "    <tr>\n",
       "      <th>M</th>\n",
       "      <td>16519.253012</td>\n",
       "      <td>100000</td>\n",
       "      <td>100</td>\n",
       "      <td>7000.0</td>\n",
       "    </tr>\n",
       "  </tbody>\n",
       "</table>\n",
       "</div>"
      ],
      "text/plain": [
       "                   CLAIM_AMOUNT                     \n",
       "                           mean    amax amin  median\n",
       "RISK_SEGMENTATION                                   \n",
       "H                  16825.429553  100000  100  8000.0\n",
       "L                  16519.317406  100000  100  7000.0\n",
       "M                  16519.253012  100000  100  7000.0"
      ]
     },
     "execution_count": 92,
     "metadata": {},
     "output_type": "execute_result"
    }
   ],
   "source": [
    "Agg_RS_CA=Final_df.loc[:,['RISK_SEGMENTATION','CLAIM_AMOUNT']].groupby(['RISK_SEGMENTATION']).agg([np.mean,np.max,np.min,np.median])\n",
    "Agg_RS_CA"
   ]
  },
  {
   "cell_type": "code",
   "execution_count": 93,
   "metadata": {},
   "outputs": [
    {
     "data": {
      "image/png": "[encoded data removed]",
      "text/plain": [
       "<Figure size 1296x576 with 1 Axes>"
      ]
     },
     "metadata": {
      "needs_background": "light"
     },
     "output_type": "display_data"
    }
   ],
   "source": [
    "Agg_RS_CA.plot(kind ='bar', figsize=(18,8),colormap=\"mako\")\n",
    "plt.xlabel('INSURANCE_TYPE')\n",
    "plt.ylabel('Amount')\n",
    "plt.title('Claim amount across risk segmentation')\n",
    "plt.show()"
   ]
  },
  {
   "cell_type": "code",
   "execution_count": null,
   "metadata": {},
   "outputs": [],
   "source": []
  },
  {
   "cell_type": "code",
   "execution_count": null,
   "metadata": {},
   "outputs": [],
   "source": []
  }
 ],
 "metadata": {
  "kernelspec": {
   "display_name": "Python 3",
   "language": "python",
   "name": "python3"
  },
  "language_info": {
   "codemirror_mode": {
    "name": "ipython",
    "version": 3
   },
   "file_extension": ".py",
   "mimetype": "text/x-python",
   "name": "python",
   "nbconvert_exporter": "python",
   "pygments_lexer": "ipython3",
   "version": "3.8.5"
  }
 },
 "nbformat": 4,
 "nbformat_minor": 4
}
